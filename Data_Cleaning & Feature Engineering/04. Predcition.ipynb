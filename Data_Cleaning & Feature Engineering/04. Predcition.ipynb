{
 "cells": [
  {
   "cell_type": "code",
   "execution_count": null,
   "id": "6cbc7277",
   "metadata": {},
   "outputs": [],
   "source": [
    "import pandas as pd\n",
    "from tensorflow.keras.models import load_model"
   ]
  },
  {
   "cell_type": "code",
   "execution_count": 6,
   "id": "bb2f9114",
   "metadata": {},
   "outputs": [],
   "source": [
    "model = load_model('D:/Client_Projects/Sir_Malik/Price-Prediction-Model_v2/Data_Cleaning & Feature Engineering/models/best_model.keras',)"
   ]
  },
  {
   "cell_type": "code",
   "execution_count": 8,
   "id": "3ecc9213",
   "metadata": {},
   "outputs": [],
   "source": [
    "with open('D:/Client_Projects/Sir_Malik/Price-Prediction-Model_v2/Data_Cleaning & Feature Engineering/pipelines/label_encoding.pkl','rb') as f:\n",
    "    le = f.read()\n",
    "with open('D:/Client_Projects/Sir_Malik/Price-Prediction-Model_v2/Data_Cleaning & Feature Engineering/pipelines/one_hot_encoding.pkl','rb') as f:\n",
    "    one = f.read()\n",
    "with open('D:/Client_Projects/Sir_Malik/Price-Prediction-Model_v2/Data_Cleaning & Feature Engineering/pipelines/scaler.pkl','rb') as f:\n",
    "    scaler = f.read()"
   ]
  },
  {
   "cell_type": "code",
   "execution_count": null,
   "id": "00b83fcf",
   "metadata": {},
   "outputs": [],
   "source": [
    "input_data={}"
   ]
  }
 ],
 "metadata": {
  "kernelspec": {
   "display_name": ".venv",
   "language": "python",
   "name": "python3"
  },
  "language_info": {
   "codemirror_mode": {
    "name": "ipython",
    "version": 3
   },
   "file_extension": ".py",
   "mimetype": "text/x-python",
   "name": "python",
   "nbconvert_exporter": "python",
   "pygments_lexer": "ipython3",
   "version": "3.12.4"
  }
 },
 "nbformat": 4,
 "nbformat_minor": 5
}
