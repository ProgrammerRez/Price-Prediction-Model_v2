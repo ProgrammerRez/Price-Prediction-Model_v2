{
 "cells": [
  {
   "cell_type": "code",
   "execution_count": 89,
   "id": "6cbc7277",
   "metadata": {},
   "outputs": [],
   "source": [
    "import pandas as pd\n",
    "from tensorflow.keras.models import load_model\n",
    "import pickle"
   ]
  },
  {
   "cell_type": "code",
   "execution_count": 90,
   "id": "bb2f9114",
   "metadata": {},
   "outputs": [],
   "source": [
    "model = load_model('D:/Client_Projects/Sir_Malik/Price-Prediction-Model_v2/Data_Cleaning & Feature Engineering/models/best_model.keras',)\n",
    "with open('D:/Client_Projects/Sir_Malik/Price-Prediction-Model_v2/Data_Cleaning & Feature Engineering/pipelines/label_encoding.pkl','rb') as f:\n",
    "    le = pickle.load(f)\n",
    "with open('D:/Client_Projects/Sir_Malik/Price-Prediction-Model_v2/Data_Cleaning & Feature Engineering/pipelines/one_hot_encoding.pkl','rb') as f:\n",
    "    one = pickle.load(f)\n",
    "with open('D:/Client_Projects/Sir_Malik/Price-Prediction-Model_v2/Data_Cleaning & Feature Engineering/pipelines/scaler.pkl','rb') as f:\n",
    "    scaler = pickle.load(f)\n",
    "with open('D:/Client_Projects/Sir_Malik/Price-Prediction-Model_v2/Data_Cleaning & Feature Engineering/pipelines/scaler2.pkl','rb') as f:\n",
    "    scaler2 = pickle.load(f)"
   ]
  },
  {
   "cell_type": "code",
   "execution_count": 91,
   "id": "00b83fcf",
   "metadata": {},
   "outputs": [],
   "source": [
    "status = 'for_sale'\n",
    "bedrooms = 4\n",
    "bathrooms = 4\n",
    "sqft_lot = 7200\n",
    "location = 'Ponce, Puerto Rico'\n",
    "zip_code = 601.0\n",
    "house_lot = 5600\n",
    "last_sold = 5\n",
    "total_house_size = sqft_lot + house_lot\n",
    "total_rooms = bedrooms + bathrooms\n",
    "\n",
    "input_data={'status':status,\n",
    "            'bedrooms':bedrooms,\n",
    "            'bathrooms':bathrooms,\n",
    "            'sqft_lot':sqft_lot,\n",
    "            'location':location,\n",
    "            'zip_code':zip_code,\n",
    "            'house_lot':house_lot,\n",
    "            'last_sold(months)':last_sold,\n",
    "            'total_house_size':total_house_size,\n",
    "            'total_rooms':total_rooms\n",
    "            }"
   ]
  },
  {
   "cell_type": "code",
   "execution_count": 92,
   "id": "dd0e7479",
   "metadata": {},
   "outputs": [],
   "source": [
    "def predict(input_data,model,le,one,scaler1,scaler2):\n",
    "    input_df = pd.DataFrame([input_data])   # brackets [] make it a row\n",
    "    status = one.transform(input_df[['status']])\n",
    "    status_cols = one.get_feature_names_out(['status'])\n",
    "    status_df = pd.DataFrame(status, columns=status_cols, index=input_df.index)\n",
    "    input_df = pd.concat([input_df,status_df],axis=1)\n",
    "    input_df = input_df.drop(['status'],axis=1)\n",
    "    input_df['location'] = le.transform(input_df['location'])\n",
    "    cols = scaler.feature_names_in_\n",
    "    df_scaled = pd.DataFrame(\n",
    "        scaler1.transform(input_df[cols]),  # 👈 keep same cols & order\n",
    "        columns=cols,\n",
    "        index=input_df.index\n",
    "    )\n",
    "    prediction = model.predict(df_scaled)\n",
    "    return scaler2.inverse_transform(prediction)"
   ]
  },
  {
   "cell_type": "code",
   "execution_count": 93,
   "id": "ce0a3832",
   "metadata": {},
   "outputs": [
    {
     "name": "stdout",
     "output_type": "stream",
     "text": [
      "\u001b[1m1/1\u001b[0m \u001b[32m━━━━━━━━━━━━━━━━━━━━\u001b[0m\u001b[37m\u001b[0m \u001b[1m0s\u001b[0m 146ms/step\n",
      "[[978452.3]]\n"
     ]
    }
   ],
   "source": [
    "print(predict(input_data=input_data,model=model,le=le,one=one,scaler1=scaler,scaler2=scaler2))"
   ]
  },
  {
   "cell_type": "code",
   "execution_count": null,
   "id": "53828089",
   "metadata": {},
   "outputs": [],
   "source": []
  }
 ],
 "metadata": {
  "kernelspec": {
   "display_name": ".venv",
   "language": "python",
   "name": "python3"
  },
  "language_info": {
   "codemirror_mode": {
    "name": "ipython",
    "version": 3
   },
   "file_extension": ".py",
   "mimetype": "text/x-python",
   "name": "python",
   "nbconvert_exporter": "python",
   "pygments_lexer": "ipython3",
   "version": "3.8.7"
  }
 },
 "nbformat": 4,
 "nbformat_minor": 5
}
