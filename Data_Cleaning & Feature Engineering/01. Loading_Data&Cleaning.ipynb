{
 "cells": [
  {
   "cell_type": "markdown",
   "id": "07fe1de9",
   "metadata": {},
   "source": [
    "## Loading Dataframe using Pandas"
   ]
  },
  {
   "cell_type": "code",
   "execution_count": 1,
   "id": "1b9037bf",
   "metadata": {},
   "outputs": [],
   "source": [
    "import pandas as pd"
   ]
  },
  {
   "cell_type": "code",
   "execution_count": 4,
   "id": "d71f06ca",
   "metadata": {},
   "outputs": [
    {
     "data": {
      "application/vnd.microsoft.datawrangler.viewer.v0+json": {
       "columns": [
        {
         "name": "index",
         "rawType": "int64",
         "type": "integer"
        },
        {
         "name": "brokered_by",
         "rawType": "float64",
         "type": "float"
        },
        {
         "name": "status",
         "rawType": "object",
         "type": "string"
        },
        {
         "name": "price",
         "rawType": "float64",
         "type": "float"
        },
        {
         "name": "bed",
         "rawType": "float64",
         "type": "float"
        },
        {
         "name": "bath",
         "rawType": "float64",
         "type": "float"
        },
        {
         "name": "acre_lot",
         "rawType": "float64",
         "type": "float"
        },
        {
         "name": "street",
         "rawType": "float64",
         "type": "float"
        },
        {
         "name": "city",
         "rawType": "object",
         "type": "unknown"
        },
        {
         "name": "state",
         "rawType": "object",
         "type": "unknown"
        },
        {
         "name": "zip_code",
         "rawType": "float64",
         "type": "float"
        },
        {
         "name": "house_size",
         "rawType": "float64",
         "type": "float"
        },
        {
         "name": "prev_sold_date",
         "rawType": "object",
         "type": "unknown"
        }
       ],
       "ref": "939844ce-7846-42c1-9135-af1441cec54e",
       "rows": [
        [
         "0",
         "103378.0",
         "for_sale",
         "105000.0",
         "3.0",
         "2.0",
         "0.12",
         "1962661.0",
         "Adjuntas",
         "Puerto Rico",
         "601.0",
         "920.0",
         null
        ],
        [
         "1",
         "52707.0",
         "for_sale",
         "80000.0",
         "4.0",
         "2.0",
         "0.08",
         "1902874.0",
         "Adjuntas",
         "Puerto Rico",
         "601.0",
         "1527.0",
         null
        ],
        [
         "2",
         "103379.0",
         "for_sale",
         "67000.0",
         "2.0",
         "1.0",
         "0.15",
         "1404990.0",
         "Juana Diaz",
         "Puerto Rico",
         "795.0",
         "748.0",
         null
        ],
        [
         "3",
         "31239.0",
         "for_sale",
         "145000.0",
         "4.0",
         "2.0",
         "0.1",
         "1947675.0",
         "Ponce",
         "Puerto Rico",
         "731.0",
         "1800.0",
         null
        ],
        [
         "4",
         "34632.0",
         "for_sale",
         "65000.0",
         "6.0",
         "2.0",
         "0.05",
         "331151.0",
         "Mayaguez",
         "Puerto Rico",
         "680.0",
         null,
         null
        ],
        [
         "5",
         "103378.0",
         "for_sale",
         "179000.0",
         "4.0",
         "3.0",
         "0.46",
         "1850806.0",
         "San Sebastian",
         "Puerto Rico",
         "612.0",
         "2520.0",
         null
        ],
        [
         "6",
         "1205.0",
         "for_sale",
         "50000.0",
         "3.0",
         "1.0",
         "0.2",
         "1298094.0",
         "Ciales",
         "Puerto Rico",
         "639.0",
         "2040.0",
         null
        ],
        [
         "7",
         "50739.0",
         "for_sale",
         "71600.0",
         "3.0",
         "2.0",
         "0.08",
         "1048466.0",
         "Ponce",
         "Puerto Rico",
         "731.0",
         "1050.0",
         null
        ],
        [
         "8",
         "81909.0",
         "for_sale",
         "100000.0",
         "2.0",
         "1.0",
         "0.09",
         "734904.0",
         "Ponce",
         "Puerto Rico",
         "730.0",
         "1092.0",
         null
        ],
        [
         "9",
         "65672.0",
         "for_sale",
         "300000.0",
         "5.0",
         "3.0",
         "7.46",
         "1946226.0",
         "Las Marias",
         "Puerto Rico",
         "670.0",
         "5403.0",
         null
        ],
        [
         "10",
         "52707.0",
         "for_sale",
         "89000.0",
         "3.0",
         "2.0",
         "13.39",
         "1902814.0",
         "Isabela",
         "Puerto Rico",
         "662.0",
         "1106.0",
         null
        ],
        [
         "11",
         "52707.0",
         "for_sale",
         "150000.0",
         "3.0",
         "2.0",
         "0.08",
         "1773902.0",
         "Juana Diaz",
         "Puerto Rico",
         "795.0",
         "1045.0",
         null
        ],
        [
         "12",
         "46019.0",
         "for_sale",
         "155000.0",
         "3.0",
         "2.0",
         "0.1",
         "1946165.0",
         "Lares",
         "Puerto Rico",
         "669.0",
         "4161.0",
         null
        ],
        [
         "13",
         "52707.0",
         "for_sale",
         "79000.0",
         "5.0",
         "2.0",
         "0.12",
         "1761024.0",
         "Utuado",
         "Puerto Rico",
         "641.0",
         "1620.0",
         null
        ],
        [
         "14",
         "88441.0",
         "for_sale",
         "649000.0",
         "5.0",
         "5.0",
         "0.74",
         "1879215.0",
         "Ponce",
         "Puerto Rico",
         "731.0",
         "2677.0",
         null
        ],
        [
         "15",
         "50739.0",
         "for_sale",
         "120000.0",
         "3.0",
         "2.0",
         "0.08",
         "17854.0",
         "Yauco",
         "Puerto Rico",
         "698.0",
         "1100.0",
         null
        ],
        [
         "16",
         "51202.0",
         "for_sale",
         "235000.0",
         "4.0",
         "4.0",
         "0.22",
         "13687.0",
         "Mayaguez",
         "Puerto Rico",
         "680.0",
         "3450.0",
         null
        ],
        [
         "17",
         "12876.0",
         "for_sale",
         "105000.0",
         "3.0",
         "2.0",
         "0.08",
         "1868721.0",
         "Ponce",
         "Puerto Rico",
         "728.0",
         "1500.0",
         null
        ],
        [
         "18",
         "109906.0",
         "for_sale",
         "575000.0",
         "3.0",
         "2.0",
         "3.88",
         "1312671.0",
         "San Sebastian",
         "Puerto Rico",
         "685.0",
         "4000.0",
         null
        ],
        [
         "19",
         "46019.0",
         "for_sale",
         "140000.0",
         "6.0",
         "3.0",
         "0.25",
         "6710.0",
         "Anasco",
         "Puerto Rico",
         "610.0",
         "1230.0",
         null
        ],
        [
         "20",
         "52707.0",
         "for_sale",
         "50000.0",
         "2.0",
         "1.0",
         "0.23",
         "1902835.0",
         "Yauco",
         "Puerto Rico",
         "698.0",
         "621.0",
         null
        ],
        [
         "21",
         "52707.0",
         "for_sale",
         "165000.0",
         "6.0",
         "3.0",
         "0.1",
         "117231.0",
         "Moca",
         "Puerto Rico",
         "676.0",
         "3000.0",
         null
        ],
        [
         "22",
         "81909.0",
         "for_sale",
         "189000.0",
         "3.0",
         "1.0",
         "2.0",
         "1307740.0",
         "Coamo",
         "Puerto Rico",
         "769.0",
         "1213.0",
         null
        ],
        [
         "23",
         "52707.0",
         "for_sale",
         "115000.0",
         "3.0",
         "2.0",
         null,
         "481889.0",
         "Ponce",
         "Puerto Rico",
         "716.0",
         "1148.0",
         null
        ],
        [
         "24",
         "12434.0",
         "for_sale",
         "122500.0",
         "3.0",
         "2.0",
         "0.05",
         "437877.0",
         "Yauco",
         "Puerto Rico",
         "698.0",
         "1118.0",
         null
        ],
        [
         "25",
         "52464.0",
         "for_sale",
         "255000.0",
         "3.0",
         "2.0",
         "0.28",
         "1948621.0",
         "San Sebastian",
         "Puerto Rico",
         "685.0",
         "1500.0",
         null
        ],
        [
         "26",
         "81495.0",
         "for_sale",
         "425000.0",
         "4.0",
         "3.0",
         "0.3",
         "955013.0",
         "Ponce",
         "Puerto Rico",
         "730.0",
         "3000.0",
         null
        ],
        [
         "27",
         "87549.0",
         "for_sale",
         "93000.0",
         "4.0",
         "2.0",
         "0.11",
         "1854860.0",
         "Guayanilla",
         "Puerto Rico",
         "656.0",
         "1300.0",
         null
        ],
        [
         "28",
         "92147.0",
         "for_sale",
         "75000.0",
         "4.0",
         "2.0",
         "0.04",
         "511838.0",
         "Manati",
         "Puerto Rico",
         "676.0",
         "1080.0",
         null
        ],
        [
         "29",
         "29915.0",
         "for_sale",
         "469000.0",
         "3.0",
         "2.0",
         "0.69",
         "1857020.0",
         "Isabela",
         "Puerto Rico",
         "662.0",
         "2505.0",
         null
        ],
        [
         "30",
         "52707.0",
         "for_sale",
         "189000.0",
         "6.0",
         "3.0",
         "1.75",
         "1902849.0",
         "Villalba",
         "Puerto Rico",
         "766.0",
         "1943.0",
         null
        ],
        [
         "31",
         "52707.0",
         "for_sale",
         "225000.0",
         "5.0",
         "4.0",
         "0.12",
         "1987398.0",
         "Ponce",
         "Puerto Rico",
         "717.0",
         "1600.0",
         null
        ],
        [
         "32",
         "67133.0",
         "for_sale",
         "495000.0",
         "4.0",
         "2.0",
         "3.08",
         "1962660.0",
         "Santa Isabel",
         "Puerto Rico",
         "757.0",
         "2886.0",
         null
        ],
        [
         "33",
         "86036.0",
         "for_sale",
         "220000.0",
         "1.0",
         "1.0",
         "0.1",
         "523790.0",
         "Ponce",
         "Puerto Rico",
         "730.0",
         "850.0",
         null
        ],
        [
         "34",
         "52707.0",
         "for_sale",
         "70500.0",
         "3.0",
         "1.0",
         "0.23",
         "1856955.0",
         "Yauco",
         "Puerto Rico",
         "698.0",
         "936.0",
         null
        ],
        [
         "35",
         "3606.0",
         "for_sale",
         "305000.0",
         "3.0",
         "2.0",
         "1.13",
         "1902855.0",
         "Moca",
         "Puerto Rico",
         "676.0",
         "1928.0",
         null
        ],
        [
         "36",
         "109906.0",
         "for_sale",
         "475000.0",
         "4.0",
         "4.0",
         "4.84",
         "1940314.0",
         "San Sebastian",
         "Puerto Rico",
         "685.0",
         "3690.0",
         null
        ],
        [
         "37",
         "1502.0",
         "for_sale",
         "195000.0",
         "3.0",
         "4.0",
         "1.94",
         "1856898.0",
         "Utuado",
         "Puerto Rico",
         "641.0",
         "2500.0",
         null
        ],
        [
         "38",
         "109906.0",
         "for_sale",
         "120000.0",
         "4.0",
         "2.0",
         "0.24",
         "1667467.0",
         "Las Marias",
         "Puerto Rico",
         "670.0",
         "1800.0",
         null
        ],
        [
         "39",
         "52707.0",
         "for_sale",
         "650000.0",
         "9.0",
         "7.0",
         "0.46",
         "1902746.0",
         "Mayaguez",
         "Puerto Rico",
         "680.0",
         "3709.0",
         null
        ],
        [
         "40",
         "86036.0",
         "for_sale",
         "555000.0",
         "5.0",
         "3.0",
         "0.16",
         "480944.0",
         "Ponce",
         "Puerto Rico",
         "730.0",
         "3100.0",
         null
        ],
        [
         "41",
         "63639.0",
         "for_sale",
         "3900000.0",
         "6.0",
         "6.0",
         "0.94",
         "269007.0",
         "Penuelas",
         "Puerto Rico",
         "624.0",
         "9297.0",
         null
        ],
        [
         "42",
         "52707.0",
         "for_sale",
         "400000.0",
         null,
         null,
         "0.99",
         "1857015.0",
         "Moca",
         "Puerto Rico",
         "676.0",
         "43082.0",
         null
        ],
        [
         "43",
         "80224.0",
         "for_sale",
         "380000.0",
         null,
         null,
         "18.45",
         "1855421.0",
         "Hatillo",
         "Puerto Rico",
         "659.0",
         null,
         null
        ],
        [
         "44",
         "52707.0",
         "for_sale",
         "95000.0",
         "3.0",
         "2.0",
         "0.1",
         "1868667.0",
         "Aguada",
         "Puerto Rico",
         "602.0",
         "600.0",
         null
        ],
        [
         "45",
         "87549.0",
         "for_sale",
         "74000.0",
         "3.0",
         "1.0",
         "0.09",
         "1902824.0",
         "Aguada",
         "Puerto Rico",
         "602.0",
         "900.0",
         null
        ],
        [
         "46",
         "108122.0",
         "for_sale",
         "139500.0",
         "4.0",
         "2.0",
         "0.15",
         "397960.0",
         "Aguada",
         "Puerto Rico",
         "602.0",
         "3000.0",
         null
        ],
        [
         "47",
         "72457.0",
         "for_sale",
         "149900.0",
         "1.0",
         "1.0",
         "0.26",
         "1850822.0",
         "Aguada",
         "Puerto Rico",
         "602.0",
         "2100.0",
         null
        ],
        [
         "48",
         "15143.0",
         "for_sale",
         "180000.0",
         "2.0",
         "2.0",
         "0.24",
         "1234696.0",
         "Aguada",
         "Puerto Rico",
         "602.0",
         "1138.0",
         null
        ],
        [
         "49",
         "52707.0",
         "for_sale",
         "249000.0",
         "3.0",
         "2.0",
         "0.13",
         "1902736.0",
         "Aguada",
         "Puerto Rico",
         "602.0",
         "1380.0",
         null
        ]
       ],
       "shape": {
        "columns": 12,
        "rows": 2226382
       }
      },
      "text/html": [
       "<div>\n",
       "<style scoped>\n",
       "    .dataframe tbody tr th:only-of-type {\n",
       "        vertical-align: middle;\n",
       "    }\n",
       "\n",
       "    .dataframe tbody tr th {\n",
       "        vertical-align: top;\n",
       "    }\n",
       "\n",
       "    .dataframe thead th {\n",
       "        text-align: right;\n",
       "    }\n",
       "</style>\n",
       "<table border=\"1\" class=\"dataframe\">\n",
       "  <thead>\n",
       "    <tr style=\"text-align: right;\">\n",
       "      <th></th>\n",
       "      <th>brokered_by</th>\n",
       "      <th>status</th>\n",
       "      <th>price</th>\n",
       "      <th>bed</th>\n",
       "      <th>bath</th>\n",
       "      <th>acre_lot</th>\n",
       "      <th>street</th>\n",
       "      <th>city</th>\n",
       "      <th>state</th>\n",
       "      <th>zip_code</th>\n",
       "      <th>house_size</th>\n",
       "      <th>prev_sold_date</th>\n",
       "    </tr>\n",
       "  </thead>\n",
       "  <tbody>\n",
       "    <tr>\n",
       "      <th>0</th>\n",
       "      <td>103378.0</td>\n",
       "      <td>for_sale</td>\n",
       "      <td>105000.0</td>\n",
       "      <td>3.0</td>\n",
       "      <td>2.0</td>\n",
       "      <td>0.12</td>\n",
       "      <td>1962661.0</td>\n",
       "      <td>Adjuntas</td>\n",
       "      <td>Puerto Rico</td>\n",
       "      <td>601.0</td>\n",
       "      <td>920.0</td>\n",
       "      <td>NaN</td>\n",
       "    </tr>\n",
       "    <tr>\n",
       "      <th>1</th>\n",
       "      <td>52707.0</td>\n",
       "      <td>for_sale</td>\n",
       "      <td>80000.0</td>\n",
       "      <td>4.0</td>\n",
       "      <td>2.0</td>\n",
       "      <td>0.08</td>\n",
       "      <td>1902874.0</td>\n",
       "      <td>Adjuntas</td>\n",
       "      <td>Puerto Rico</td>\n",
       "      <td>601.0</td>\n",
       "      <td>1527.0</td>\n",
       "      <td>NaN</td>\n",
       "    </tr>\n",
       "    <tr>\n",
       "      <th>2</th>\n",
       "      <td>103379.0</td>\n",
       "      <td>for_sale</td>\n",
       "      <td>67000.0</td>\n",
       "      <td>2.0</td>\n",
       "      <td>1.0</td>\n",
       "      <td>0.15</td>\n",
       "      <td>1404990.0</td>\n",
       "      <td>Juana Diaz</td>\n",
       "      <td>Puerto Rico</td>\n",
       "      <td>795.0</td>\n",
       "      <td>748.0</td>\n",
       "      <td>NaN</td>\n",
       "    </tr>\n",
       "    <tr>\n",
       "      <th>3</th>\n",
       "      <td>31239.0</td>\n",
       "      <td>for_sale</td>\n",
       "      <td>145000.0</td>\n",
       "      <td>4.0</td>\n",
       "      <td>2.0</td>\n",
       "      <td>0.10</td>\n",
       "      <td>1947675.0</td>\n",
       "      <td>Ponce</td>\n",
       "      <td>Puerto Rico</td>\n",
       "      <td>731.0</td>\n",
       "      <td>1800.0</td>\n",
       "      <td>NaN</td>\n",
       "    </tr>\n",
       "    <tr>\n",
       "      <th>4</th>\n",
       "      <td>34632.0</td>\n",
       "      <td>for_sale</td>\n",
       "      <td>65000.0</td>\n",
       "      <td>6.0</td>\n",
       "      <td>2.0</td>\n",
       "      <td>0.05</td>\n",
       "      <td>331151.0</td>\n",
       "      <td>Mayaguez</td>\n",
       "      <td>Puerto Rico</td>\n",
       "      <td>680.0</td>\n",
       "      <td>NaN</td>\n",
       "      <td>NaN</td>\n",
       "    </tr>\n",
       "    <tr>\n",
       "      <th>...</th>\n",
       "      <td>...</td>\n",
       "      <td>...</td>\n",
       "      <td>...</td>\n",
       "      <td>...</td>\n",
       "      <td>...</td>\n",
       "      <td>...</td>\n",
       "      <td>...</td>\n",
       "      <td>...</td>\n",
       "      <td>...</td>\n",
       "      <td>...</td>\n",
       "      <td>...</td>\n",
       "      <td>...</td>\n",
       "    </tr>\n",
       "    <tr>\n",
       "      <th>2226377</th>\n",
       "      <td>23009.0</td>\n",
       "      <td>sold</td>\n",
       "      <td>359900.0</td>\n",
       "      <td>4.0</td>\n",
       "      <td>2.0</td>\n",
       "      <td>0.33</td>\n",
       "      <td>353094.0</td>\n",
       "      <td>Richland</td>\n",
       "      <td>Washington</td>\n",
       "      <td>99354.0</td>\n",
       "      <td>3600.0</td>\n",
       "      <td>2022-03-25</td>\n",
       "    </tr>\n",
       "    <tr>\n",
       "      <th>2226378</th>\n",
       "      <td>18208.0</td>\n",
       "      <td>sold</td>\n",
       "      <td>350000.0</td>\n",
       "      <td>3.0</td>\n",
       "      <td>2.0</td>\n",
       "      <td>0.10</td>\n",
       "      <td>1062149.0</td>\n",
       "      <td>Richland</td>\n",
       "      <td>Washington</td>\n",
       "      <td>99354.0</td>\n",
       "      <td>1616.0</td>\n",
       "      <td>2022-03-25</td>\n",
       "    </tr>\n",
       "    <tr>\n",
       "      <th>2226379</th>\n",
       "      <td>76856.0</td>\n",
       "      <td>sold</td>\n",
       "      <td>440000.0</td>\n",
       "      <td>6.0</td>\n",
       "      <td>3.0</td>\n",
       "      <td>0.50</td>\n",
       "      <td>405677.0</td>\n",
       "      <td>Richland</td>\n",
       "      <td>Washington</td>\n",
       "      <td>99354.0</td>\n",
       "      <td>3200.0</td>\n",
       "      <td>2022-03-24</td>\n",
       "    </tr>\n",
       "    <tr>\n",
       "      <th>2226380</th>\n",
       "      <td>53618.0</td>\n",
       "      <td>sold</td>\n",
       "      <td>179900.0</td>\n",
       "      <td>2.0</td>\n",
       "      <td>1.0</td>\n",
       "      <td>0.09</td>\n",
       "      <td>761379.0</td>\n",
       "      <td>Richland</td>\n",
       "      <td>Washington</td>\n",
       "      <td>99354.0</td>\n",
       "      <td>933.0</td>\n",
       "      <td>2022-03-24</td>\n",
       "    </tr>\n",
       "    <tr>\n",
       "      <th>2226381</th>\n",
       "      <td>108243.0</td>\n",
       "      <td>sold</td>\n",
       "      <td>580000.0</td>\n",
       "      <td>5.0</td>\n",
       "      <td>3.0</td>\n",
       "      <td>0.31</td>\n",
       "      <td>307704.0</td>\n",
       "      <td>Richland</td>\n",
       "      <td>Washington</td>\n",
       "      <td>99354.0</td>\n",
       "      <td>3615.0</td>\n",
       "      <td>2022-03-23</td>\n",
       "    </tr>\n",
       "  </tbody>\n",
       "</table>\n",
       "<p>2226382 rows × 12 columns</p>\n",
       "</div>"
      ],
      "text/plain": [
       "         brokered_by    status     price  bed  bath  acre_lot     street  \\\n",
       "0           103378.0  for_sale  105000.0  3.0   2.0      0.12  1962661.0   \n",
       "1            52707.0  for_sale   80000.0  4.0   2.0      0.08  1902874.0   \n",
       "2           103379.0  for_sale   67000.0  2.0   1.0      0.15  1404990.0   \n",
       "3            31239.0  for_sale  145000.0  4.0   2.0      0.10  1947675.0   \n",
       "4            34632.0  for_sale   65000.0  6.0   2.0      0.05   331151.0   \n",
       "...              ...       ...       ...  ...   ...       ...        ...   \n",
       "2226377      23009.0      sold  359900.0  4.0   2.0      0.33   353094.0   \n",
       "2226378      18208.0      sold  350000.0  3.0   2.0      0.10  1062149.0   \n",
       "2226379      76856.0      sold  440000.0  6.0   3.0      0.50   405677.0   \n",
       "2226380      53618.0      sold  179900.0  2.0   1.0      0.09   761379.0   \n",
       "2226381     108243.0      sold  580000.0  5.0   3.0      0.31   307704.0   \n",
       "\n",
       "               city        state  zip_code  house_size prev_sold_date  \n",
       "0          Adjuntas  Puerto Rico     601.0       920.0            NaN  \n",
       "1          Adjuntas  Puerto Rico     601.0      1527.0            NaN  \n",
       "2        Juana Diaz  Puerto Rico     795.0       748.0            NaN  \n",
       "3             Ponce  Puerto Rico     731.0      1800.0            NaN  \n",
       "4          Mayaguez  Puerto Rico     680.0         NaN            NaN  \n",
       "...             ...          ...       ...         ...            ...  \n",
       "2226377    Richland   Washington   99354.0      3600.0     2022-03-25  \n",
       "2226378    Richland   Washington   99354.0      1616.0     2022-03-25  \n",
       "2226379    Richland   Washington   99354.0      3200.0     2022-03-24  \n",
       "2226380    Richland   Washington   99354.0       933.0     2022-03-24  \n",
       "2226381    Richland   Washington   99354.0      3615.0     2022-03-23  \n",
       "\n",
       "[2226382 rows x 12 columns]"
      ]
     },
     "execution_count": 4,
     "metadata": {},
     "output_type": "execute_result"
    }
   ],
   "source": [
    "df = pd.read_csv('D:/Client_Projects/Sir_Malik/Price-Prediction-Model_v2/Data_Cleaning & Feature Engineering/Data/realtor-data.csv')\n",
    "df"
   ]
  },
  {
   "cell_type": "markdown",
   "id": "8f8936a7",
   "metadata": {},
   "source": [
    "## Cleaning Null Values"
   ]
  },
  {
   "cell_type": "code",
   "execution_count": 5,
   "id": "60aadf9c",
   "metadata": {},
   "outputs": [
    {
     "data": {
      "application/vnd.microsoft.datawrangler.viewer.v0+json": {
       "columns": [
        {
         "name": "index",
         "rawType": "object",
         "type": "string"
        },
        {
         "name": "0",
         "rawType": "int64",
         "type": "integer"
        }
       ],
       "ref": "2b7d2197-6459-4361-a43d-f4c86ea371d4",
       "rows": [
        [
         "brokered_by",
         "4533"
        ],
        [
         "status",
         "0"
        ],
        [
         "price",
         "1541"
        ],
        [
         "bed",
         "481317"
        ],
        [
         "bath",
         "511771"
        ],
        [
         "acre_lot",
         "325589"
        ],
        [
         "street",
         "10866"
        ],
        [
         "city",
         "1407"
        ],
        [
         "state",
         "8"
        ],
        [
         "zip_code",
         "299"
        ],
        [
         "house_size",
         "568484"
        ],
        [
         "prev_sold_date",
         "734297"
        ]
       ],
       "shape": {
        "columns": 1,
        "rows": 12
       }
      },
      "text/plain": [
       "brokered_by         4533\n",
       "status                 0\n",
       "price               1541\n",
       "bed               481317\n",
       "bath              511771\n",
       "acre_lot          325589\n",
       "street             10866\n",
       "city                1407\n",
       "state                  8\n",
       "zip_code             299\n",
       "house_size        568484\n",
       "prev_sold_date    734297\n",
       "dtype: int64"
      ]
     },
     "execution_count": 5,
     "metadata": {},
     "output_type": "execute_result"
    }
   ],
   "source": [
    "df.isna().sum()"
   ]
  },
  {
   "cell_type": "code",
   "execution_count": 6,
   "id": "7def0926",
   "metadata": {},
   "outputs": [
    {
     "data": {
      "application/vnd.microsoft.datawrangler.viewer.v0+json": {
       "columns": [
        {
         "name": "index",
         "rawType": "int64",
         "type": "integer"
        },
        {
         "name": "status",
         "rawType": "object",
         "type": "string"
        },
        {
         "name": "price",
         "rawType": "float64",
         "type": "float"
        },
        {
         "name": "bed",
         "rawType": "float64",
         "type": "float"
        },
        {
         "name": "bath",
         "rawType": "float64",
         "type": "float"
        },
        {
         "name": "acre_lot",
         "rawType": "float64",
         "type": "float"
        },
        {
         "name": "city",
         "rawType": "object",
         "type": "string"
        },
        {
         "name": "state",
         "rawType": "object",
         "type": "string"
        },
        {
         "name": "zip_code",
         "rawType": "float64",
         "type": "float"
        },
        {
         "name": "house_size",
         "rawType": "float64",
         "type": "float"
        },
        {
         "name": "months_since_prev_sold",
         "rawType": "int64",
         "type": "integer"
        }
       ],
       "ref": "882e1d75-fe90-400a-8678-69f5233c9851",
       "rows": [
        [
         "0",
         "for_sale",
         "105000.0",
         "3.0",
         "2.0",
         "0.12",
         "Adjuntas",
         "Puerto Rico",
         "601.0",
         "920.0",
         "0"
        ],
        [
         "1",
         "for_sale",
         "80000.0",
         "4.0",
         "2.0",
         "0.08",
         "Adjuntas",
         "Puerto Rico",
         "601.0",
         "1527.0",
         "0"
        ],
        [
         "2",
         "for_sale",
         "67000.0",
         "2.0",
         "1.0",
         "0.15",
         "Juana Diaz",
         "Puerto Rico",
         "795.0",
         "748.0",
         "0"
        ],
        [
         "3",
         "for_sale",
         "145000.0",
         "4.0",
         "2.0",
         "0.1",
         "Ponce",
         "Puerto Rico",
         "731.0",
         "1800.0",
         "0"
        ],
        [
         "4",
         "for_sale",
         "65000.0",
         "6.0",
         "2.0",
         "0.05",
         "Mayaguez",
         "Puerto Rico",
         "680.0",
         "2714.471334786579",
         "0"
        ]
       ],
       "shape": {
        "columns": 10,
        "rows": 5
       }
      },
      "text/html": [
       "<div>\n",
       "<style scoped>\n",
       "    .dataframe tbody tr th:only-of-type {\n",
       "        vertical-align: middle;\n",
       "    }\n",
       "\n",
       "    .dataframe tbody tr th {\n",
       "        vertical-align: top;\n",
       "    }\n",
       "\n",
       "    .dataframe thead th {\n",
       "        text-align: right;\n",
       "    }\n",
       "</style>\n",
       "<table border=\"1\" class=\"dataframe\">\n",
       "  <thead>\n",
       "    <tr style=\"text-align: right;\">\n",
       "      <th></th>\n",
       "      <th>status</th>\n",
       "      <th>price</th>\n",
       "      <th>bed</th>\n",
       "      <th>bath</th>\n",
       "      <th>acre_lot</th>\n",
       "      <th>city</th>\n",
       "      <th>state</th>\n",
       "      <th>zip_code</th>\n",
       "      <th>house_size</th>\n",
       "      <th>months_since_prev_sold</th>\n",
       "    </tr>\n",
       "  </thead>\n",
       "  <tbody>\n",
       "    <tr>\n",
       "      <th>0</th>\n",
       "      <td>for_sale</td>\n",
       "      <td>105000.0</td>\n",
       "      <td>3.0</td>\n",
       "      <td>2.0</td>\n",
       "      <td>0.12</td>\n",
       "      <td>Adjuntas</td>\n",
       "      <td>Puerto Rico</td>\n",
       "      <td>601.0</td>\n",
       "      <td>920.000000</td>\n",
       "      <td>0</td>\n",
       "    </tr>\n",
       "    <tr>\n",
       "      <th>1</th>\n",
       "      <td>for_sale</td>\n",
       "      <td>80000.0</td>\n",
       "      <td>4.0</td>\n",
       "      <td>2.0</td>\n",
       "      <td>0.08</td>\n",
       "      <td>Adjuntas</td>\n",
       "      <td>Puerto Rico</td>\n",
       "      <td>601.0</td>\n",
       "      <td>1527.000000</td>\n",
       "      <td>0</td>\n",
       "    </tr>\n",
       "    <tr>\n",
       "      <th>2</th>\n",
       "      <td>for_sale</td>\n",
       "      <td>67000.0</td>\n",
       "      <td>2.0</td>\n",
       "      <td>1.0</td>\n",
       "      <td>0.15</td>\n",
       "      <td>Juana Diaz</td>\n",
       "      <td>Puerto Rico</td>\n",
       "      <td>795.0</td>\n",
       "      <td>748.000000</td>\n",
       "      <td>0</td>\n",
       "    </tr>\n",
       "    <tr>\n",
       "      <th>3</th>\n",
       "      <td>for_sale</td>\n",
       "      <td>145000.0</td>\n",
       "      <td>4.0</td>\n",
       "      <td>2.0</td>\n",
       "      <td>0.10</td>\n",
       "      <td>Ponce</td>\n",
       "      <td>Puerto Rico</td>\n",
       "      <td>731.0</td>\n",
       "      <td>1800.000000</td>\n",
       "      <td>0</td>\n",
       "    </tr>\n",
       "    <tr>\n",
       "      <th>4</th>\n",
       "      <td>for_sale</td>\n",
       "      <td>65000.0</td>\n",
       "      <td>6.0</td>\n",
       "      <td>2.0</td>\n",
       "      <td>0.05</td>\n",
       "      <td>Mayaguez</td>\n",
       "      <td>Puerto Rico</td>\n",
       "      <td>680.0</td>\n",
       "      <td>2714.471335</td>\n",
       "      <td>0</td>\n",
       "    </tr>\n",
       "  </tbody>\n",
       "</table>\n",
       "</div>"
      ],
      "text/plain": [
       "     status     price  bed  bath  acre_lot        city        state  zip_code  \\\n",
       "0  for_sale  105000.0  3.0   2.0      0.12    Adjuntas  Puerto Rico     601.0   \n",
       "1  for_sale   80000.0  4.0   2.0      0.08    Adjuntas  Puerto Rico     601.0   \n",
       "2  for_sale   67000.0  2.0   1.0      0.15  Juana Diaz  Puerto Rico     795.0   \n",
       "3  for_sale  145000.0  4.0   2.0      0.10       Ponce  Puerto Rico     731.0   \n",
       "4  for_sale   65000.0  6.0   2.0      0.05    Mayaguez  Puerto Rico     680.0   \n",
       "\n",
       "    house_size  months_since_prev_sold  \n",
       "0   920.000000                       0  \n",
       "1  1527.000000                       0  \n",
       "2   748.000000                       0  \n",
       "3  1800.000000                       0  \n",
       "4  2714.471335                       0  "
      ]
     },
     "execution_count": 6,
     "metadata": {},
     "output_type": "execute_result"
    }
   ],
   "source": [
    "\"\"\"\n",
    "Cell generated by Data Wrangler.\n",
    "\"\"\"\n",
    "from datetime import datetime\n",
    "import numpy as np\n",
    "import pandas as pd\n",
    "\n",
    "def clean_data(df):\n",
    "    # Drop column: 'street'\n",
    "    df = df.drop(columns=['street','brokered_by'])\n",
    "    def months_passed(from_date_str, date_format=\"%Y-%m-%d\"):\n",
    "        if pd.isna(from_date_str):  # handle NaN/NaT values\n",
    "            return 0\n",
    "        # If the column is already datetime, skip parsing\n",
    "        if isinstance(from_date_str, (datetime, pd.Timestamp)):\n",
    "            from_date = from_date_str\n",
    "        else:\n",
    "            from_date = datetime.strptime(str(from_date_str), date_format)\n",
    "        today = datetime.today()\n",
    "        years_diff = today.year - from_date.year\n",
    "        months_diff = today.month - from_date.month\n",
    "        total_months = years_diff * 12 + months_diff\n",
    "        if today.day < from_date.day:\n",
    "            total_months -= 1\n",
    "        return total_months\n",
    "    # Apply to the column\n",
    "    df['months_since_prev_sold'] = df['prev_sold_date'].apply(months_passed)\n",
    "    df = df.drop(['prev_sold_date'],axis=1)\n",
    "    df['bed'] = df['bed'].fillna(df['bed'].mode()[0])\n",
    "    df['bath'] = df['bath'].fillna(df['bath'].mode()[0])\n",
    "    df['acre_lot'] = df['acre_lot'].fillna(df['acre_lot'].mean())\n",
    "    df['house_size'] = df['house_size'].fillna(df['house_size'].mean())\n",
    "    df = df.dropna()\n",
    "    return df\n",
    "\n",
    "df_clean = clean_data(df.copy())\n",
    "df_clean.head()"
   ]
  },
  {
   "cell_type": "code",
   "execution_count": 7,
   "id": "c64074af",
   "metadata": {},
   "outputs": [
    {
     "data": {
      "application/vnd.microsoft.datawrangler.viewer.v0+json": {
       "columns": [
        {
         "name": "index",
         "rawType": "int64",
         "type": "integer"
        },
        {
         "name": "status",
         "rawType": "object",
         "type": "string"
        },
        {
         "name": "price",
         "rawType": "float64",
         "type": "float"
        },
        {
         "name": "bed",
         "rawType": "float64",
         "type": "float"
        },
        {
         "name": "bath",
         "rawType": "float64",
         "type": "float"
        },
        {
         "name": "acre_lot",
         "rawType": "float64",
         "type": "float"
        },
        {
         "name": "city",
         "rawType": "object",
         "type": "string"
        },
        {
         "name": "state",
         "rawType": "object",
         "type": "string"
        },
        {
         "name": "zip_code",
         "rawType": "float64",
         "type": "float"
        },
        {
         "name": "house_size",
         "rawType": "float64",
         "type": "float"
        },
        {
         "name": "months_since_prev_sold",
         "rawType": "int64",
         "type": "integer"
        }
       ],
       "ref": "b66c4263-d81e-44ef-a026-a6b17c3a2785",
       "rows": [
        [
         "0",
         "for_sale",
         "105000.0",
         "3.0",
         "2.0",
         "0.12",
         "Adjuntas",
         "Puerto Rico",
         "601.0",
         "920.0",
         "0"
        ],
        [
         "1",
         "for_sale",
         "80000.0",
         "4.0",
         "2.0",
         "0.08",
         "Adjuntas",
         "Puerto Rico",
         "601.0",
         "1527.0",
         "0"
        ],
        [
         "2",
         "for_sale",
         "67000.0",
         "2.0",
         "1.0",
         "0.15",
         "Juana Diaz",
         "Puerto Rico",
         "795.0",
         "748.0",
         "0"
        ],
        [
         "3",
         "for_sale",
         "145000.0",
         "4.0",
         "2.0",
         "0.1",
         "Ponce",
         "Puerto Rico",
         "731.0",
         "1800.0",
         "0"
        ],
        [
         "4",
         "for_sale",
         "65000.0",
         "6.0",
         "2.0",
         "0.05",
         "Mayaguez",
         "Puerto Rico",
         "680.0",
         "2714.471334786579",
         "0"
        ]
       ],
       "shape": {
        "columns": 10,
        "rows": 5
       }
      },
      "text/html": [
       "<div>\n",
       "<style scoped>\n",
       "    .dataframe tbody tr th:only-of-type {\n",
       "        vertical-align: middle;\n",
       "    }\n",
       "\n",
       "    .dataframe tbody tr th {\n",
       "        vertical-align: top;\n",
       "    }\n",
       "\n",
       "    .dataframe thead th {\n",
       "        text-align: right;\n",
       "    }\n",
       "</style>\n",
       "<table border=\"1\" class=\"dataframe\">\n",
       "  <thead>\n",
       "    <tr style=\"text-align: right;\">\n",
       "      <th></th>\n",
       "      <th>status</th>\n",
       "      <th>price</th>\n",
       "      <th>bed</th>\n",
       "      <th>bath</th>\n",
       "      <th>acre_lot</th>\n",
       "      <th>city</th>\n",
       "      <th>state</th>\n",
       "      <th>zip_code</th>\n",
       "      <th>house_size</th>\n",
       "      <th>months_since_prev_sold</th>\n",
       "    </tr>\n",
       "  </thead>\n",
       "  <tbody>\n",
       "    <tr>\n",
       "      <th>0</th>\n",
       "      <td>for_sale</td>\n",
       "      <td>105000.0</td>\n",
       "      <td>3.0</td>\n",
       "      <td>2.0</td>\n",
       "      <td>0.12</td>\n",
       "      <td>Adjuntas</td>\n",
       "      <td>Puerto Rico</td>\n",
       "      <td>601.0</td>\n",
       "      <td>920.000000</td>\n",
       "      <td>0</td>\n",
       "    </tr>\n",
       "    <tr>\n",
       "      <th>1</th>\n",
       "      <td>for_sale</td>\n",
       "      <td>80000.0</td>\n",
       "      <td>4.0</td>\n",
       "      <td>2.0</td>\n",
       "      <td>0.08</td>\n",
       "      <td>Adjuntas</td>\n",
       "      <td>Puerto Rico</td>\n",
       "      <td>601.0</td>\n",
       "      <td>1527.000000</td>\n",
       "      <td>0</td>\n",
       "    </tr>\n",
       "    <tr>\n",
       "      <th>2</th>\n",
       "      <td>for_sale</td>\n",
       "      <td>67000.0</td>\n",
       "      <td>2.0</td>\n",
       "      <td>1.0</td>\n",
       "      <td>0.15</td>\n",
       "      <td>Juana Diaz</td>\n",
       "      <td>Puerto Rico</td>\n",
       "      <td>795.0</td>\n",
       "      <td>748.000000</td>\n",
       "      <td>0</td>\n",
       "    </tr>\n",
       "    <tr>\n",
       "      <th>3</th>\n",
       "      <td>for_sale</td>\n",
       "      <td>145000.0</td>\n",
       "      <td>4.0</td>\n",
       "      <td>2.0</td>\n",
       "      <td>0.10</td>\n",
       "      <td>Ponce</td>\n",
       "      <td>Puerto Rico</td>\n",
       "      <td>731.0</td>\n",
       "      <td>1800.000000</td>\n",
       "      <td>0</td>\n",
       "    </tr>\n",
       "    <tr>\n",
       "      <th>4</th>\n",
       "      <td>for_sale</td>\n",
       "      <td>65000.0</td>\n",
       "      <td>6.0</td>\n",
       "      <td>2.0</td>\n",
       "      <td>0.05</td>\n",
       "      <td>Mayaguez</td>\n",
       "      <td>Puerto Rico</td>\n",
       "      <td>680.0</td>\n",
       "      <td>2714.471335</td>\n",
       "      <td>0</td>\n",
       "    </tr>\n",
       "  </tbody>\n",
       "</table>\n",
       "</div>"
      ],
      "text/plain": [
       "     status     price  bed  bath  acre_lot        city        state  zip_code  \\\n",
       "0  for_sale  105000.0  3.0   2.0      0.12    Adjuntas  Puerto Rico     601.0   \n",
       "1  for_sale   80000.0  4.0   2.0      0.08    Adjuntas  Puerto Rico     601.0   \n",
       "2  for_sale   67000.0  2.0   1.0      0.15  Juana Diaz  Puerto Rico     795.0   \n",
       "3  for_sale  145000.0  4.0   2.0      0.10       Ponce  Puerto Rico     731.0   \n",
       "4  for_sale   65000.0  6.0   2.0      0.05    Mayaguez  Puerto Rico     680.0   \n",
       "\n",
       "    house_size  months_since_prev_sold  \n",
       "0   920.000000                       0  \n",
       "1  1527.000000                       0  \n",
       "2   748.000000                       0  \n",
       "3  1800.000000                       0  \n",
       "4  2714.471335                       0  "
      ]
     },
     "execution_count": 7,
     "metadata": {},
     "output_type": "execute_result"
    }
   ],
   "source": [
    "df = df_clean.copy()\n",
    "df.head()"
   ]
  },
  {
   "cell_type": "code",
   "execution_count": 8,
   "id": "09c678a5",
   "metadata": {},
   "outputs": [
    {
     "data": {
      "application/vnd.microsoft.datawrangler.viewer.v0+json": {
       "columns": [
        {
         "name": "index",
         "rawType": "object",
         "type": "string"
        },
        {
         "name": "0",
         "rawType": "int64",
         "type": "integer"
        }
       ],
       "ref": "5f6552b7-b725-4320-a8ec-d27b1b1e5673",
       "rows": [
        [
         "status",
         "0"
        ],
        [
         "price",
         "0"
        ],
        [
         "bed",
         "0"
        ],
        [
         "bath",
         "0"
        ],
        [
         "acre_lot",
         "0"
        ],
        [
         "city",
         "0"
        ],
        [
         "state",
         "0"
        ],
        [
         "zip_code",
         "0"
        ],
        [
         "house_size",
         "0"
        ],
        [
         "months_since_prev_sold",
         "0"
        ]
       ],
       "shape": {
        "columns": 1,
        "rows": 10
       }
      },
      "text/plain": [
       "status                    0\n",
       "price                     0\n",
       "bed                       0\n",
       "bath                      0\n",
       "acre_lot                  0\n",
       "city                      0\n",
       "state                     0\n",
       "zip_code                  0\n",
       "house_size                0\n",
       "months_since_prev_sold    0\n",
       "dtype: int64"
      ]
     },
     "execution_count": 8,
     "metadata": {},
     "output_type": "execute_result"
    }
   ],
   "source": [
    "df.isna().sum()"
   ]
  },
  {
   "cell_type": "code",
   "execution_count": 9,
   "id": "ba08b070",
   "metadata": {},
   "outputs": [
    {
     "data": {
      "text/plain": [
       "(2223239, 10)"
      ]
     },
     "execution_count": 9,
     "metadata": {},
     "output_type": "execute_result"
    }
   ],
   "source": [
    "df.shape"
   ]
  },
  {
   "cell_type": "code",
   "execution_count": 10,
   "id": "937d7c14",
   "metadata": {},
   "outputs": [],
   "source": [
    "df.to_csv('D:/Client_Projects/Sir_Malik/Price-Prediction-Model_v2/Data_Cleaning & Feature Engineering/Data/Cleaned_Null_Values.csv')"
   ]
  },
  {
   "cell_type": "code",
   "execution_count": 11,
   "id": "46a47e9b",
   "metadata": {},
   "outputs": [],
   "source": [
    "df_sale = df.loc[df['status']!='sold']\n"
   ]
  },
  {
   "cell_type": "code",
   "execution_count": 12,
   "id": "38126538",
   "metadata": {},
   "outputs": [
    {
     "data": {
      "text/plain": [
       "(1411585, 10)"
      ]
     },
     "execution_count": 12,
     "metadata": {},
     "output_type": "execute_result"
    }
   ],
   "source": [
    "df_sale.shape"
   ]
  },
  {
   "cell_type": "code",
   "execution_count": 13,
   "id": "8392bb55",
   "metadata": {},
   "outputs": [
    {
     "data": {
      "text/plain": [
       "array(['for_sale', 'ready_to_build'], dtype=object)"
      ]
     },
     "execution_count": 13,
     "metadata": {},
     "output_type": "execute_result"
    }
   ],
   "source": [
    "df_sale.status.unique()"
   ]
  },
  {
   "cell_type": "code",
   "execution_count": 14,
   "id": "8cf30aef",
   "metadata": {},
   "outputs": [],
   "source": [
    "df_sale.to_csv('D:/Client_Projects/Sir_Malik/Price-Prediction-Model_v2/Data_Cleaning & Feature Engineering/Data/Cleaned_Null_Values+Sale_Data.csv')"
   ]
  },
  {
   "cell_type": "code",
   "execution_count": null,
   "id": "360d4fff",
   "metadata": {},
   "outputs": [],
   "source": []
  }
 ],
 "metadata": {
  "kernelspec": {
   "display_name": ".venv",
   "language": "python",
   "name": "python3"
  },
  "language_info": {
   "codemirror_mode": {
    "name": "ipython",
    "version": 3
   },
   "file_extension": ".py",
   "mimetype": "text/x-python",
   "name": "python",
   "nbconvert_exporter": "python",
   "pygments_lexer": "ipython3",
   "version": "3.8.7"
  }
 },
 "nbformat": 4,
 "nbformat_minor": 5
}
