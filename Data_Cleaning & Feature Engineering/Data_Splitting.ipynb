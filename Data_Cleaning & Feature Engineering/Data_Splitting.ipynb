{
 "cells": [
  {
   "cell_type": "code",
   "execution_count": 97,
   "id": "aeefdc36",
   "metadata": {},
   "outputs": [],
   "source": [
    "import pandas as pd\n",
    "import numpy as np\n",
    "from sklearn.model_selection import KFold"
   ]
  },
  {
   "cell_type": "code",
   "execution_count": 98,
   "id": "3c72cdde",
   "metadata": {},
   "outputs": [
    {
     "data": {
      "application/vnd.microsoft.datawrangler.viewer.v0+json": {
       "columns": [
        {
         "name": "index",
         "rawType": "int64",
         "type": "integer"
        },
        {
         "name": "Unnamed: 0",
         "rawType": "int64",
         "type": "integer"
        },
        {
         "name": "price",
         "rawType": "float64",
         "type": "float"
        },
        {
         "name": "bed",
         "rawType": "float64",
         "type": "float"
        },
        {
         "name": "bath",
         "rawType": "float64",
         "type": "float"
        },
        {
         "name": "acre_lot",
         "rawType": "float64",
         "type": "float"
        },
        {
         "name": "city",
         "rawType": "object",
         "type": "string"
        },
        {
         "name": "state",
         "rawType": "object",
         "type": "string"
        },
        {
         "name": "house_size",
         "rawType": "float64",
         "type": "float"
        },
        {
         "name": "sqft_lot",
         "rawType": "float64",
         "type": "float"
        }
       ],
       "ref": "37de9c0d-dae8-4908-bba0-6e22b7388a93",
       "rows": [
        [
         "0",
         "0",
         "105000.0",
         "3.0",
         "2.0",
         "0.12",
         "Adjuntas",
         "Puerto Rico",
         "920.0",
         "5227.2"
        ],
        [
         "1",
         "1",
         "80000.0",
         "4.0",
         "2.0",
         "0.08",
         "Adjuntas",
         "Puerto Rico",
         "1527.0",
         "3484.8"
        ],
        [
         "2",
         "2",
         "67000.0",
         "2.0",
         "1.0",
         "0.15",
         "Juana Diaz",
         "Puerto Rico",
         "748.0",
         "6534.0"
        ],
        [
         "3",
         "3",
         "145000.0",
         "4.0",
         "2.0",
         "0.1",
         "Ponce",
         "Puerto Rico",
         "1800.0",
         "4356.0"
        ],
        [
         "4",
         "4",
         "65000.0",
         "6.0",
         "2.0",
         "0.05",
         "Mayaguez",
         "Puerto Rico",
         "1200.0",
         "2178.0"
        ]
       ],
       "shape": {
        "columns": 9,
        "rows": 5
       }
      },
      "text/html": [
       "<div>\n",
       "<style scoped>\n",
       "    .dataframe tbody tr th:only-of-type {\n",
       "        vertical-align: middle;\n",
       "    }\n",
       "\n",
       "    .dataframe tbody tr th {\n",
       "        vertical-align: top;\n",
       "    }\n",
       "\n",
       "    .dataframe thead th {\n",
       "        text-align: right;\n",
       "    }\n",
       "</style>\n",
       "<table border=\"1\" class=\"dataframe\">\n",
       "  <thead>\n",
       "    <tr style=\"text-align: right;\">\n",
       "      <th></th>\n",
       "      <th>Unnamed: 0</th>\n",
       "      <th>price</th>\n",
       "      <th>bed</th>\n",
       "      <th>bath</th>\n",
       "      <th>acre_lot</th>\n",
       "      <th>city</th>\n",
       "      <th>state</th>\n",
       "      <th>house_size</th>\n",
       "      <th>sqft_lot</th>\n",
       "    </tr>\n",
       "  </thead>\n",
       "  <tbody>\n",
       "    <tr>\n",
       "      <th>0</th>\n",
       "      <td>0</td>\n",
       "      <td>105000.0</td>\n",
       "      <td>3.0</td>\n",
       "      <td>2.0</td>\n",
       "      <td>0.12</td>\n",
       "      <td>Adjuntas</td>\n",
       "      <td>Puerto Rico</td>\n",
       "      <td>920.0</td>\n",
       "      <td>5227.2</td>\n",
       "    </tr>\n",
       "    <tr>\n",
       "      <th>1</th>\n",
       "      <td>1</td>\n",
       "      <td>80000.0</td>\n",
       "      <td>4.0</td>\n",
       "      <td>2.0</td>\n",
       "      <td>0.08</td>\n",
       "      <td>Adjuntas</td>\n",
       "      <td>Puerto Rico</td>\n",
       "      <td>1527.0</td>\n",
       "      <td>3484.8</td>\n",
       "    </tr>\n",
       "    <tr>\n",
       "      <th>2</th>\n",
       "      <td>2</td>\n",
       "      <td>67000.0</td>\n",
       "      <td>2.0</td>\n",
       "      <td>1.0</td>\n",
       "      <td>0.15</td>\n",
       "      <td>Juana Diaz</td>\n",
       "      <td>Puerto Rico</td>\n",
       "      <td>748.0</td>\n",
       "      <td>6534.0</td>\n",
       "    </tr>\n",
       "    <tr>\n",
       "      <th>3</th>\n",
       "      <td>3</td>\n",
       "      <td>145000.0</td>\n",
       "      <td>4.0</td>\n",
       "      <td>2.0</td>\n",
       "      <td>0.10</td>\n",
       "      <td>Ponce</td>\n",
       "      <td>Puerto Rico</td>\n",
       "      <td>1800.0</td>\n",
       "      <td>4356.0</td>\n",
       "    </tr>\n",
       "    <tr>\n",
       "      <th>4</th>\n",
       "      <td>4</td>\n",
       "      <td>65000.0</td>\n",
       "      <td>6.0</td>\n",
       "      <td>2.0</td>\n",
       "      <td>0.05</td>\n",
       "      <td>Mayaguez</td>\n",
       "      <td>Puerto Rico</td>\n",
       "      <td>1200.0</td>\n",
       "      <td>2178.0</td>\n",
       "    </tr>\n",
       "  </tbody>\n",
       "</table>\n",
       "</div>"
      ],
      "text/plain": [
       "   Unnamed: 0     price  bed  bath  acre_lot        city        state  \\\n",
       "0           0  105000.0  3.0   2.0      0.12    Adjuntas  Puerto Rico   \n",
       "1           1   80000.0  4.0   2.0      0.08    Adjuntas  Puerto Rico   \n",
       "2           2   67000.0  2.0   1.0      0.15  Juana Diaz  Puerto Rico   \n",
       "3           3  145000.0  4.0   2.0      0.10       Ponce  Puerto Rico   \n",
       "4           4   65000.0  6.0   2.0      0.05    Mayaguez  Puerto Rico   \n",
       "\n",
       "   house_size  sqft_lot  \n",
       "0       920.0    5227.2  \n",
       "1      1527.0    3484.8  \n",
       "2       748.0    6534.0  \n",
       "3      1800.0    4356.0  \n",
       "4      1200.0    2178.0  "
      ]
     },
     "execution_count": 98,
     "metadata": {},
     "output_type": "execute_result"
    }
   ],
   "source": [
    "df = pd.read_csv('E:/Client_Projects/Sir_Malik/Price-Prediction-Model_v2/Cleaned_Data/df_2.csv')\n",
    "df.head()"
   ]
  },
  {
   "cell_type": "code",
   "execution_count": 99,
   "id": "0d2ca448",
   "metadata": {},
   "outputs": [
    {
     "data": {
      "application/vnd.microsoft.datawrangler.viewer.v0+json": {
       "columns": [
        {
         "name": "index",
         "rawType": "int64",
         "type": "integer"
        },
        {
         "name": "price",
         "rawType": "float64",
         "type": "float"
        },
        {
         "name": "bed",
         "rawType": "float64",
         "type": "float"
        },
        {
         "name": "bath",
         "rawType": "float64",
         "type": "float"
        },
        {
         "name": "city",
         "rawType": "object",
         "type": "string"
        },
        {
         "name": "state",
         "rawType": "object",
         "type": "string"
        },
        {
         "name": "house_size",
         "rawType": "float64",
         "type": "float"
        },
        {
         "name": "sqft_lot",
         "rawType": "float64",
         "type": "float"
        },
        {
         "name": "Total_Size",
         "rawType": "float64",
         "type": "float"
        },
        {
         "name": "Total_Rooms",
         "rawType": "float64",
         "type": "float"
        }
       ],
       "ref": "e179003e-7fc1-48f4-acfd-8e52b11e2505",
       "rows": [
        [
         "0",
         "105000.0",
         "3.0",
         "2.0",
         "Adjuntas",
         "Puerto Rico",
         "920.0",
         "5227.2",
         "6147.2",
         "5.0"
        ],
        [
         "1",
         "80000.0",
         "4.0",
         "2.0",
         "Adjuntas",
         "Puerto Rico",
         "1527.0",
         "3484.8",
         "5011.8",
         "6.0"
        ],
        [
         "2",
         "67000.0",
         "2.0",
         "1.0",
         "Juana Diaz",
         "Puerto Rico",
         "748.0",
         "6534.0",
         "7282.0",
         "3.0"
        ],
        [
         "3",
         "145000.0",
         "4.0",
         "2.0",
         "Ponce",
         "Puerto Rico",
         "1800.0",
         "4356.0",
         "6156.0",
         "6.0"
        ],
        [
         "4",
         "65000.0",
         "6.0",
         "2.0",
         "Mayaguez",
         "Puerto Rico",
         "1200.0",
         "2178.0",
         "3378.0",
         "8.0"
        ]
       ],
       "shape": {
        "columns": 9,
        "rows": 5
       }
      },
      "text/html": [
       "<div>\n",
       "<style scoped>\n",
       "    .dataframe tbody tr th:only-of-type {\n",
       "        vertical-align: middle;\n",
       "    }\n",
       "\n",
       "    .dataframe tbody tr th {\n",
       "        vertical-align: top;\n",
       "    }\n",
       "\n",
       "    .dataframe thead th {\n",
       "        text-align: right;\n",
       "    }\n",
       "</style>\n",
       "<table border=\"1\" class=\"dataframe\">\n",
       "  <thead>\n",
       "    <tr style=\"text-align: right;\">\n",
       "      <th></th>\n",
       "      <th>price</th>\n",
       "      <th>bed</th>\n",
       "      <th>bath</th>\n",
       "      <th>city</th>\n",
       "      <th>state</th>\n",
       "      <th>house_size</th>\n",
       "      <th>sqft_lot</th>\n",
       "      <th>Total_Size</th>\n",
       "      <th>Total_Rooms</th>\n",
       "    </tr>\n",
       "  </thead>\n",
       "  <tbody>\n",
       "    <tr>\n",
       "      <th>0</th>\n",
       "      <td>105000.0</td>\n",
       "      <td>3.0</td>\n",
       "      <td>2.0</td>\n",
       "      <td>Adjuntas</td>\n",
       "      <td>Puerto Rico</td>\n",
       "      <td>920.0</td>\n",
       "      <td>5227.2</td>\n",
       "      <td>6147.2</td>\n",
       "      <td>5.0</td>\n",
       "    </tr>\n",
       "    <tr>\n",
       "      <th>1</th>\n",
       "      <td>80000.0</td>\n",
       "      <td>4.0</td>\n",
       "      <td>2.0</td>\n",
       "      <td>Adjuntas</td>\n",
       "      <td>Puerto Rico</td>\n",
       "      <td>1527.0</td>\n",
       "      <td>3484.8</td>\n",
       "      <td>5011.8</td>\n",
       "      <td>6.0</td>\n",
       "    </tr>\n",
       "    <tr>\n",
       "      <th>2</th>\n",
       "      <td>67000.0</td>\n",
       "      <td>2.0</td>\n",
       "      <td>1.0</td>\n",
       "      <td>Juana Diaz</td>\n",
       "      <td>Puerto Rico</td>\n",
       "      <td>748.0</td>\n",
       "      <td>6534.0</td>\n",
       "      <td>7282.0</td>\n",
       "      <td>3.0</td>\n",
       "    </tr>\n",
       "    <tr>\n",
       "      <th>3</th>\n",
       "      <td>145000.0</td>\n",
       "      <td>4.0</td>\n",
       "      <td>2.0</td>\n",
       "      <td>Ponce</td>\n",
       "      <td>Puerto Rico</td>\n",
       "      <td>1800.0</td>\n",
       "      <td>4356.0</td>\n",
       "      <td>6156.0</td>\n",
       "      <td>6.0</td>\n",
       "    </tr>\n",
       "    <tr>\n",
       "      <th>4</th>\n",
       "      <td>65000.0</td>\n",
       "      <td>6.0</td>\n",
       "      <td>2.0</td>\n",
       "      <td>Mayaguez</td>\n",
       "      <td>Puerto Rico</td>\n",
       "      <td>1200.0</td>\n",
       "      <td>2178.0</td>\n",
       "      <td>3378.0</td>\n",
       "      <td>8.0</td>\n",
       "    </tr>\n",
       "  </tbody>\n",
       "</table>\n",
       "</div>"
      ],
      "text/plain": [
       "      price  bed  bath        city        state  house_size  sqft_lot  \\\n",
       "0  105000.0  3.0   2.0    Adjuntas  Puerto Rico       920.0    5227.2   \n",
       "1   80000.0  4.0   2.0    Adjuntas  Puerto Rico      1527.0    3484.8   \n",
       "2   67000.0  2.0   1.0  Juana Diaz  Puerto Rico       748.0    6534.0   \n",
       "3  145000.0  4.0   2.0       Ponce  Puerto Rico      1800.0    4356.0   \n",
       "4   65000.0  6.0   2.0    Mayaguez  Puerto Rico      1200.0    2178.0   \n",
       "\n",
       "   Total_Size  Total_Rooms  \n",
       "0      6147.2          5.0  \n",
       "1      5011.8          6.0  \n",
       "2      7282.0          3.0  \n",
       "3      6156.0          6.0  \n",
       "4      3378.0          8.0  "
      ]
     },
     "execution_count": 99,
     "metadata": {},
     "output_type": "execute_result"
    }
   ],
   "source": [
    "\"\"\"\n",
    "Cell generated by Data Wrangler.\n",
    "\"\"\"\n",
    "def clean_data(df):\n",
    "    df.drop(['Unnamed: 0', 'acre_lot'], axis=1, inplace=True)  # Droped specified columns\n",
    "    df['Total_Size'] = df['house_size'] + df['sqft_lot']  # Added new column for total size\n",
    "    df['Total_Rooms'] = df['bed'] + df['bath'] # Added new columns for total rooms\n",
    "    grouped_by_city = df.groupby('price',)\n",
    "    return df\n",
    "\n",
    "df_clean = clean_data(df.copy())\n",
    "df_clean.head()"
   ]
  },
  {
   "cell_type": "code",
   "execution_count": 100,
   "id": "f7864eae",
   "metadata": {},
   "outputs": [],
   "source": [
    "def kfold_target_encode(df, target_col, cat_col, n_splits=5, smoothing=10):\n",
    "    encoded_col = pd.Series(index=df.index, dtype=float)\n",
    "    global_mean = df[target_col].mean()\n",
    "    kf = KFold(n_splits=n_splits, shuffle=True, random_state=42)\n",
    "\n",
    "    for train_index, val_index in kf.split(df):\n",
    "        df_train, df_val = df.iloc[train_index], df.iloc[val_index]\n",
    "        agg = df_train.groupby(cat_col)[target_col].agg(['count', 'sum'])\n",
    "        smoothed_mean = (agg['sum'] + global_mean * smoothing) / (agg['count'] + smoothing)\n",
    "        encoded_col.iloc[val_index] = df_val[cat_col].apply(lambda x: smoothed_mean.get(x, global_mean))\n",
    "        \n",
    "    return encoded_col\n"
   ]
  },
  {
   "cell_type": "code",
   "execution_count": 101,
   "id": "e6214a2c",
   "metadata": {},
   "outputs": [],
   "source": [
    "df_clean['city_encoded'] = kfold_target_encode(df_clean,'price','city')\n",
    "df_clean['state_encoded'] = kfold_target_encode(df_clean,'price','state')"
   ]
  },
  {
   "cell_type": "code",
   "execution_count": 102,
   "id": "f589d28e",
   "metadata": {},
   "outputs": [],
   "source": [
    "df = df_clean.copy()"
   ]
  },
  {
   "cell_type": "code",
   "execution_count": 103,
   "id": "4db70324",
   "metadata": {},
   "outputs": [],
   "source": [
    "df.drop(index=[0,1,2,3,4,5,6],inplace=True)"
   ]
  },
  {
   "cell_type": "code",
   "execution_count": 104,
   "id": "dcda0a78",
   "metadata": {},
   "outputs": [
    {
     "name": "stderr",
     "output_type": "stream",
     "text": [
      "e:\\Client_Projects\\Sir_Malik\\Price-Prediction-Model_v2\\Prediction_Model\\Lib\\site-packages\\numpy\\_core\\fromnumeric.py:57: FutureWarning: 'DataFrame.swapaxes' is deprecated and will be removed in a future version. Please use 'DataFrame.transpose' instead.\n",
      "  return bound(*args, **kwds)\n"
     ]
    },
    {
     "name": "stdout",
     "output_type": "stream",
     "text": [
      "/nShapes of the 4 new DataFrames:\n",
      "df1 shape: (556240, 11)\n",
      "df2 shape: (556240, 11)\n",
      "df3 shape: (556240, 11)\n",
      "df4 shape: (556240, 11)\n"
     ]
    }
   ],
   "source": [
    "# Split the DataFrame into a list of 4 DataFrames\n",
    "list_of_dfs = np.array_split(df, 4)\n",
    "\n",
    "# Assign each part to its own new DataFrame variable\n",
    "df1 = list_of_dfs[0]\n",
    "df2 = list_of_dfs[1]\n",
    "df3 = list_of_dfs[2]\n",
    "df4 = list_of_dfs[3]\n",
    "df_clean.to_csv('E:/Client_Projects/Sir_Malik/Price-Prediction-Model_v2/Cleaned_Data/Split_Data/df_clean.csv')\n",
    "df1.to_csv('E:/Client_Projects/Sir_Malik/Price-Prediction-Model_v2/Cleaned_Data/Split_Data/df1.csv')\n",
    "df2.to_csv('E:/Client_Projects/Sir_Malik/Price-Prediction-Model_v2/Cleaned_Data/Split_Data/df2.csv')\n",
    "df3.to_csv('E:/Client_Projects/Sir_Malik/Price-Prediction-Model_v2/Cleaned_Data/Split_Data/df3.csv')\n",
    "df4.to_csv('E:/Client_Projects/Sir_Malik/Price-Prediction-Model_v2/Cleaned_Data/Split_Data/df4.csv')\n",
    "\n",
    "# --- Verification ---\n",
    "print(\"/nShapes of the 4 new DataFrames:\")\n",
    "print(f\"df1 shape: {df1.shape}\")\n",
    "print(f\"df2 shape: {df2.shape}\")\n",
    "print(f\"df3 shape: {df3.shape}\")\n",
    "print(f\"df4 shape: {df4.shape}\")"
   ]
  },
  {
   "cell_type": "code",
   "execution_count": null,
   "id": "91e5e482",
   "metadata": {},
   "outputs": [],
   "source": []
  }
 ],
 "metadata": {
  "kernelspec": {
   "display_name": "Prediction_Model",
   "language": "python",
   "name": "python3"
  },
  "language_info": {
   "codemirror_mode": {
    "name": "ipython",
    "version": 3
   },
   "file_extension": ".py",
   "mimetype": "text/x-python",
   "name": "python",
   "nbconvert_exporter": "python",
   "pygments_lexer": "ipython3",
   "version": "3.13.5"
  }
 },
 "nbformat": 4,
 "nbformat_minor": 5
}
