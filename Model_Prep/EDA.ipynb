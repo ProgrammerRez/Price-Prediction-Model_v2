{
 "cells": [
  {
   "cell_type": "code",
   "execution_count": 1,
   "id": "8c01333b",
   "metadata": {},
   "outputs": [],
   "source": [
    "import pandas as pd\n",
    "import matplotlib.pyplot as plt\n",
    "import seaborn as sn\n",
    "import plotly.graph_objs as go\n",
    "import plotly.express as px"
   ]
  },
  {
   "cell_type": "code",
   "execution_count": 2,
   "id": "5c16f4e1",
   "metadata": {},
   "outputs": [
    {
     "data": {
      "application/vnd.microsoft.datawrangler.viewer.v0+json": {
       "columns": [
        {
         "name": "index",
         "rawType": "int64",
         "type": "integer"
        },
        {
         "name": "Unnamed: 0",
         "rawType": "int64",
         "type": "integer"
        },
        {
         "name": "price",
         "rawType": "float64",
         "type": "float"
        },
        {
         "name": "bed",
         "rawType": "float64",
         "type": "float"
        },
        {
         "name": "bath",
         "rawType": "float64",
         "type": "float"
        },
        {
         "name": "acre_lot",
         "rawType": "float64",
         "type": "float"
        },
        {
         "name": "city",
         "rawType": "object",
         "type": "string"
        },
        {
         "name": "state",
         "rawType": "object",
         "type": "string"
        },
        {
         "name": "house_size",
         "rawType": "float64",
         "type": "float"
        },
        {
         "name": "sqft_lot",
         "rawType": "float64",
         "type": "float"
        }
       ],
       "ref": "e12023cd-6ca2-4398-8d71-5c1ffc5f2cae",
       "rows": [
        [
         "0",
         "0",
         "105000.0",
         "3.0",
         "2.0",
         "0.12",
         "Adjuntas",
         "Puerto Rico",
         "920.0",
         "5227.2"
        ],
        [
         "1",
         "1",
         "80000.0",
         "4.0",
         "2.0",
         "0.08",
         "Adjuntas",
         "Puerto Rico",
         "1527.0",
         "3484.8"
        ],
        [
         "2",
         "2",
         "67000.0",
         "2.0",
         "1.0",
         "0.15",
         "Juana Diaz",
         "Puerto Rico",
         "748.0",
         "6534.0"
        ],
        [
         "3",
         "3",
         "145000.0",
         "4.0",
         "2.0",
         "0.1",
         "Ponce",
         "Puerto Rico",
         "1800.0",
         "4356.0"
        ],
        [
         "4",
         "4",
         "65000.0",
         "6.0",
         "2.0",
         "0.05",
         "Mayaguez",
         "Puerto Rico",
         "1200.0",
         "2178.0"
        ]
       ],
       "shape": {
        "columns": 9,
        "rows": 5
       }
      },
      "text/html": [
       "<div>\n",
       "<style scoped>\n",
       "    .dataframe tbody tr th:only-of-type {\n",
       "        vertical-align: middle;\n",
       "    }\n",
       "\n",
       "    .dataframe tbody tr th {\n",
       "        vertical-align: top;\n",
       "    }\n",
       "\n",
       "    .dataframe thead th {\n",
       "        text-align: right;\n",
       "    }\n",
       "</style>\n",
       "<table border=\"1\" class=\"dataframe\">\n",
       "  <thead>\n",
       "    <tr style=\"text-align: right;\">\n",
       "      <th></th>\n",
       "      <th>Unnamed: 0</th>\n",
       "      <th>price</th>\n",
       "      <th>bed</th>\n",
       "      <th>bath</th>\n",
       "      <th>acre_lot</th>\n",
       "      <th>city</th>\n",
       "      <th>state</th>\n",
       "      <th>house_size</th>\n",
       "      <th>sqft_lot</th>\n",
       "    </tr>\n",
       "  </thead>\n",
       "  <tbody>\n",
       "    <tr>\n",
       "      <th>0</th>\n",
       "      <td>0</td>\n",
       "      <td>105000.0</td>\n",
       "      <td>3.0</td>\n",
       "      <td>2.0</td>\n",
       "      <td>0.12</td>\n",
       "      <td>Adjuntas</td>\n",
       "      <td>Puerto Rico</td>\n",
       "      <td>920.0</td>\n",
       "      <td>5227.2</td>\n",
       "    </tr>\n",
       "    <tr>\n",
       "      <th>1</th>\n",
       "      <td>1</td>\n",
       "      <td>80000.0</td>\n",
       "      <td>4.0</td>\n",
       "      <td>2.0</td>\n",
       "      <td>0.08</td>\n",
       "      <td>Adjuntas</td>\n",
       "      <td>Puerto Rico</td>\n",
       "      <td>1527.0</td>\n",
       "      <td>3484.8</td>\n",
       "    </tr>\n",
       "    <tr>\n",
       "      <th>2</th>\n",
       "      <td>2</td>\n",
       "      <td>67000.0</td>\n",
       "      <td>2.0</td>\n",
       "      <td>1.0</td>\n",
       "      <td>0.15</td>\n",
       "      <td>Juana Diaz</td>\n",
       "      <td>Puerto Rico</td>\n",
       "      <td>748.0</td>\n",
       "      <td>6534.0</td>\n",
       "    </tr>\n",
       "    <tr>\n",
       "      <th>3</th>\n",
       "      <td>3</td>\n",
       "      <td>145000.0</td>\n",
       "      <td>4.0</td>\n",
       "      <td>2.0</td>\n",
       "      <td>0.10</td>\n",
       "      <td>Ponce</td>\n",
       "      <td>Puerto Rico</td>\n",
       "      <td>1800.0</td>\n",
       "      <td>4356.0</td>\n",
       "    </tr>\n",
       "    <tr>\n",
       "      <th>4</th>\n",
       "      <td>4</td>\n",
       "      <td>65000.0</td>\n",
       "      <td>6.0</td>\n",
       "      <td>2.0</td>\n",
       "      <td>0.05</td>\n",
       "      <td>Mayaguez</td>\n",
       "      <td>Puerto Rico</td>\n",
       "      <td>1200.0</td>\n",
       "      <td>2178.0</td>\n",
       "    </tr>\n",
       "  </tbody>\n",
       "</table>\n",
       "</div>"
      ],
      "text/plain": [
       "   Unnamed: 0     price  bed  bath  acre_lot        city        state  \\\n",
       "0           0  105000.0  3.0   2.0      0.12    Adjuntas  Puerto Rico   \n",
       "1           1   80000.0  4.0   2.0      0.08    Adjuntas  Puerto Rico   \n",
       "2           2   67000.0  2.0   1.0      0.15  Juana Diaz  Puerto Rico   \n",
       "3           3  145000.0  4.0   2.0      0.10       Ponce  Puerto Rico   \n",
       "4           4   65000.0  6.0   2.0      0.05    Mayaguez  Puerto Rico   \n",
       "\n",
       "   house_size  sqft_lot  \n",
       "0       920.0    5227.2  \n",
       "1      1527.0    3484.8  \n",
       "2       748.0    6534.0  \n",
       "3      1800.0    4356.0  \n",
       "4      1200.0    2178.0  "
      ]
     },
     "execution_count": 2,
     "metadata": {},
     "output_type": "execute_result"
    }
   ],
   "source": [
    "df = pd.read_csv('/media/programmerrez/Field_Testing/Courses/Client_Projects/Sir_Malik/Price-Prediction-Model/Cleaned_Data/df_2.csv')\n",
    "df.head()"
   ]
  },
  {
   "cell_type": "code",
   "execution_count": 3,
   "id": "d5acd56c",
   "metadata": {},
   "outputs": [
    {
     "data": {
      "text/plain": [
       "Index(['Unnamed: 0', 'price', 'bed', 'bath', 'acre_lot', 'city', 'state',\n",
       "       'house_size', 'sqft_lot'],\n",
       "      dtype='object')"
      ]
     },
     "execution_count": 3,
     "metadata": {},
     "output_type": "execute_result"
    }
   ],
   "source": [
    "df.columns"
   ]
  },
  {
   "cell_type": "code",
   "execution_count": 4,
   "id": "a4adf711",
   "metadata": {},
   "outputs": [],
   "source": [
    "df.drop(['Unnamed: 0'],axis=1,inplace=True)"
   ]
  },
  {
   "cell_type": "code",
   "execution_count": 5,
   "id": "e2f62d27",
   "metadata": {},
   "outputs": [],
   "source": [
    "from sklearn.preprocessing import LabelEncoder\n",
    "le = LabelEncoder()\n"
   ]
  },
  {
   "cell_type": "code",
   "execution_count": 6,
   "id": "4cd86d92",
   "metadata": {},
   "outputs": [],
   "source": [
    "\n",
    "df['city'] = le.fit_transform(df.city)\n",
    "df['state'] = le.fit_transform(df.state)\n"
   ]
  },
  {
   "cell_type": "code",
   "execution_count": 7,
   "id": "6bd296eb",
   "metadata": {},
   "outputs": [
    {
     "data": {
      "application/vnd.microsoft.datawrangler.viewer.v0+json": {
       "columns": [
        {
         "name": "index",
         "rawType": "int64",
         "type": "integer"
        },
        {
         "name": "price",
         "rawType": "float64",
         "type": "float"
        },
        {
         "name": "bed",
         "rawType": "float64",
         "type": "float"
        },
        {
         "name": "bath",
         "rawType": "float64",
         "type": "float"
        },
        {
         "name": "acre_lot",
         "rawType": "float64",
         "type": "float"
        },
        {
         "name": "city",
         "rawType": "int64",
         "type": "integer"
        },
        {
         "name": "state",
         "rawType": "int64",
         "type": "integer"
        },
        {
         "name": "house_size",
         "rawType": "float64",
         "type": "float"
        },
        {
         "name": "sqft_lot",
         "rawType": "float64",
         "type": "float"
        }
       ],
       "ref": "a72b2e74-cb3c-4345-aa04-af5c1496dc30",
       "rows": [
        [
         "0",
         "105000.0",
         "3.0",
         "2.0",
         "0.12",
         "92",
         "41",
         "920.0",
         "5227.2"
        ],
        [
         "1",
         "80000.0",
         "4.0",
         "2.0",
         "0.08",
         "92",
         "41",
         "1527.0",
         "3484.8"
        ],
        [
         "2",
         "67000.0",
         "2.0",
         "1.0",
         "0.15",
         "8786",
         "41",
         "748.0",
         "6534.0"
        ],
        [
         "3",
         "145000.0",
         "4.0",
         "2.0",
         "0.1",
         "14312",
         "41",
         "1800.0",
         "4356.0"
        ],
        [
         "4",
         "65000.0",
         "6.0",
         "2.0",
         "0.05",
         "10934",
         "41",
         "1200.0",
         "2178.0"
        ]
       ],
       "shape": {
        "columns": 8,
        "rows": 5
       }
      },
      "text/html": [
       "<div>\n",
       "<style scoped>\n",
       "    .dataframe tbody tr th:only-of-type {\n",
       "        vertical-align: middle;\n",
       "    }\n",
       "\n",
       "    .dataframe tbody tr th {\n",
       "        vertical-align: top;\n",
       "    }\n",
       "\n",
       "    .dataframe thead th {\n",
       "        text-align: right;\n",
       "    }\n",
       "</style>\n",
       "<table border=\"1\" class=\"dataframe\">\n",
       "  <thead>\n",
       "    <tr style=\"text-align: right;\">\n",
       "      <th></th>\n",
       "      <th>price</th>\n",
       "      <th>bed</th>\n",
       "      <th>bath</th>\n",
       "      <th>acre_lot</th>\n",
       "      <th>city</th>\n",
       "      <th>state</th>\n",
       "      <th>house_size</th>\n",
       "      <th>sqft_lot</th>\n",
       "    </tr>\n",
       "  </thead>\n",
       "  <tbody>\n",
       "    <tr>\n",
       "      <th>0</th>\n",
       "      <td>105000.0</td>\n",
       "      <td>3.0</td>\n",
       "      <td>2.0</td>\n",
       "      <td>0.12</td>\n",
       "      <td>92</td>\n",
       "      <td>41</td>\n",
       "      <td>920.0</td>\n",
       "      <td>5227.2</td>\n",
       "    </tr>\n",
       "    <tr>\n",
       "      <th>1</th>\n",
       "      <td>80000.0</td>\n",
       "      <td>4.0</td>\n",
       "      <td>2.0</td>\n",
       "      <td>0.08</td>\n",
       "      <td>92</td>\n",
       "      <td>41</td>\n",
       "      <td>1527.0</td>\n",
       "      <td>3484.8</td>\n",
       "    </tr>\n",
       "    <tr>\n",
       "      <th>2</th>\n",
       "      <td>67000.0</td>\n",
       "      <td>2.0</td>\n",
       "      <td>1.0</td>\n",
       "      <td>0.15</td>\n",
       "      <td>8786</td>\n",
       "      <td>41</td>\n",
       "      <td>748.0</td>\n",
       "      <td>6534.0</td>\n",
       "    </tr>\n",
       "    <tr>\n",
       "      <th>3</th>\n",
       "      <td>145000.0</td>\n",
       "      <td>4.0</td>\n",
       "      <td>2.0</td>\n",
       "      <td>0.10</td>\n",
       "      <td>14312</td>\n",
       "      <td>41</td>\n",
       "      <td>1800.0</td>\n",
       "      <td>4356.0</td>\n",
       "    </tr>\n",
       "    <tr>\n",
       "      <th>4</th>\n",
       "      <td>65000.0</td>\n",
       "      <td>6.0</td>\n",
       "      <td>2.0</td>\n",
       "      <td>0.05</td>\n",
       "      <td>10934</td>\n",
       "      <td>41</td>\n",
       "      <td>1200.0</td>\n",
       "      <td>2178.0</td>\n",
       "    </tr>\n",
       "  </tbody>\n",
       "</table>\n",
       "</div>"
      ],
      "text/plain": [
       "      price  bed  bath  acre_lot   city  state  house_size  sqft_lot\n",
       "0  105000.0  3.0   2.0      0.12     92     41       920.0    5227.2\n",
       "1   80000.0  4.0   2.0      0.08     92     41      1527.0    3484.8\n",
       "2   67000.0  2.0   1.0      0.15   8786     41       748.0    6534.0\n",
       "3  145000.0  4.0   2.0      0.10  14312     41      1800.0    4356.0\n",
       "4   65000.0  6.0   2.0      0.05  10934     41      1200.0    2178.0"
      ]
     },
     "execution_count": 7,
     "metadata": {},
     "output_type": "execute_result"
    }
   ],
   "source": [
    "df.head()"
   ]
  },
  {
   "cell_type": "code",
   "execution_count": 8,
   "id": "fc626b36",
   "metadata": {},
   "outputs": [],
   "source": [
    "from sklearn.model_selection import train_test_split\n",
    "from sklearn.linear_model import Lasso, LinearRegression, Ridge\n",
    "from sklearn.ensemble import RandomForestRegressor\n",
    "from sklearn.tree import DecisionTreeRegressor\n",
    "from sklearn.neighbors import KNeighborsRegressor\n"
   ]
  },
  {
   "cell_type": "code",
   "execution_count": 9,
   "id": "5b845bff",
   "metadata": {},
   "outputs": [],
   "source": [
    "X = df.drop(['price'],axis=1)\n",
    "y = df.price\n",
    "\n",
    "X_train,X_test,y_train,y_test = train_test_split(X,y,test_size=0.4,random_state=42)"
   ]
  },
  {
   "cell_type": "code",
   "execution_count": 10,
   "id": "ee8d5bba",
   "metadata": {},
   "outputs": [
    {
     "data": {
      "text/plain": [
       "(1334980, 7)"
      ]
     },
     "execution_count": 10,
     "metadata": {},
     "output_type": "execute_result"
    }
   ],
   "source": [
    "X_train.shape"
   ]
  },
  {
   "cell_type": "code",
   "execution_count": 11,
   "id": "a1db6f2c",
   "metadata": {},
   "outputs": [
    {
     "data": {
      "text/plain": [
       "(1334980,)"
      ]
     },
     "execution_count": 11,
     "metadata": {},
     "output_type": "execute_result"
    }
   ],
   "source": [
    "y_train.shape"
   ]
  },
  {
   "cell_type": "code",
   "execution_count": null,
   "id": "871d7805",
   "metadata": {},
   "outputs": [],
   "source": [
    "rfr = RandomForestRegressor()\n",
    "rfr.fit(X_train,y_train)"
   ]
  },
  {
   "cell_type": "code",
   "execution_count": null,
   "id": "afebefab",
   "metadata": {},
   "outputs": [],
   "source": []
  }
 ],
 "metadata": {
  "kernelspec": {
   "display_name": ".venv",
   "language": "python",
   "name": "python3"
  },
  "language_info": {
   "codemirror_mode": {
    "name": "ipython",
    "version": 3
   },
   "file_extension": ".py",
   "mimetype": "text/x-python",
   "name": "python",
   "nbconvert_exporter": "python",
   "pygments_lexer": "ipython3",
   "version": "3.12.1"
  }
 },
 "nbformat": 4,
 "nbformat_minor": 5
}
