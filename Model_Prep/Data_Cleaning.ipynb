{
 "cells": [
  {
   "cell_type": "code",
   "execution_count": 1,
   "id": "ce9a84fc",
   "metadata": {},
   "outputs": [],
   "source": [
    "import pandas as pd\n",
    "from sklearn.pipeline import Pipeline\n",
    "from sklearn.impute import SimpleImputer\n",
    "from sklearn.preprocessing import StandardScaler, FunctionTransformer\n",
    "import matplotlib.pyplot as plt\n",
    "import seaborn as sn"
   ]
  },
  {
   "cell_type": "code",
   "execution_count": 2,
   "id": "399e30ee",
   "metadata": {},
   "outputs": [
    {
     "data": {
      "application/vnd.microsoft.datawrangler.viewer.v0+json": {
       "columns": [
        {
         "name": "index",
         "rawType": "int64",
         "type": "integer"
        },
        {
         "name": "brokered_by",
         "rawType": "float64",
         "type": "float"
        },
        {
         "name": "status",
         "rawType": "object",
         "type": "string"
        },
        {
         "name": "price",
         "rawType": "float64",
         "type": "float"
        },
        {
         "name": "bed",
         "rawType": "float64",
         "type": "float"
        },
        {
         "name": "bath",
         "rawType": "float64",
         "type": "float"
        },
        {
         "name": "acre_lot",
         "rawType": "float64",
         "type": "float"
        },
        {
         "name": "street",
         "rawType": "float64",
         "type": "float"
        },
        {
         "name": "city",
         "rawType": "object",
         "type": "string"
        },
        {
         "name": "state",
         "rawType": "object",
         "type": "string"
        },
        {
         "name": "zip_code",
         "rawType": "float64",
         "type": "float"
        },
        {
         "name": "house_size",
         "rawType": "float64",
         "type": "float"
        },
        {
         "name": "prev_sold_date",
         "rawType": "object",
         "type": "unknown"
        }
       ],
       "ref": "33fb2299-40df-48ab-943c-4cda18d32d8e",
       "rows": [
        [
         "0",
         "103378.0",
         "for_sale",
         "105000.0",
         "3.0",
         "2.0",
         "0.12",
         "1962661.0",
         "Adjuntas",
         "Puerto Rico",
         "601.0",
         "920.0",
         null
        ],
        [
         "1",
         "52707.0",
         "for_sale",
         "80000.0",
         "4.0",
         "2.0",
         "0.08",
         "1902874.0",
         "Adjuntas",
         "Puerto Rico",
         "601.0",
         "1527.0",
         null
        ],
        [
         "2",
         "103379.0",
         "for_sale",
         "67000.0",
         "2.0",
         "1.0",
         "0.15",
         "1404990.0",
         "Juana Diaz",
         "Puerto Rico",
         "795.0",
         "748.0",
         null
        ],
        [
         "3",
         "31239.0",
         "for_sale",
         "145000.0",
         "4.0",
         "2.0",
         "0.1",
         "1947675.0",
         "Ponce",
         "Puerto Rico",
         "731.0",
         "1800.0",
         null
        ],
        [
         "4",
         "34632.0",
         "for_sale",
         "65000.0",
         "6.0",
         "2.0",
         "0.05",
         "331151.0",
         "Mayaguez",
         "Puerto Rico",
         "680.0",
         null,
         null
        ]
       ],
       "shape": {
        "columns": 12,
        "rows": 5
       }
      },
      "text/html": [
       "<div>\n",
       "<style scoped>\n",
       "    .dataframe tbody tr th:only-of-type {\n",
       "        vertical-align: middle;\n",
       "    }\n",
       "\n",
       "    .dataframe tbody tr th {\n",
       "        vertical-align: top;\n",
       "    }\n",
       "\n",
       "    .dataframe thead th {\n",
       "        text-align: right;\n",
       "    }\n",
       "</style>\n",
       "<table border=\"1\" class=\"dataframe\">\n",
       "  <thead>\n",
       "    <tr style=\"text-align: right;\">\n",
       "      <th></th>\n",
       "      <th>brokered_by</th>\n",
       "      <th>status</th>\n",
       "      <th>price</th>\n",
       "      <th>bed</th>\n",
       "      <th>bath</th>\n",
       "      <th>acre_lot</th>\n",
       "      <th>street</th>\n",
       "      <th>city</th>\n",
       "      <th>state</th>\n",
       "      <th>zip_code</th>\n",
       "      <th>house_size</th>\n",
       "      <th>prev_sold_date</th>\n",
       "    </tr>\n",
       "  </thead>\n",
       "  <tbody>\n",
       "    <tr>\n",
       "      <th>0</th>\n",
       "      <td>103378.0</td>\n",
       "      <td>for_sale</td>\n",
       "      <td>105000.0</td>\n",
       "      <td>3.0</td>\n",
       "      <td>2.0</td>\n",
       "      <td>0.12</td>\n",
       "      <td>1962661.0</td>\n",
       "      <td>Adjuntas</td>\n",
       "      <td>Puerto Rico</td>\n",
       "      <td>601.0</td>\n",
       "      <td>920.0</td>\n",
       "      <td>NaN</td>\n",
       "    </tr>\n",
       "    <tr>\n",
       "      <th>1</th>\n",
       "      <td>52707.0</td>\n",
       "      <td>for_sale</td>\n",
       "      <td>80000.0</td>\n",
       "      <td>4.0</td>\n",
       "      <td>2.0</td>\n",
       "      <td>0.08</td>\n",
       "      <td>1902874.0</td>\n",
       "      <td>Adjuntas</td>\n",
       "      <td>Puerto Rico</td>\n",
       "      <td>601.0</td>\n",
       "      <td>1527.0</td>\n",
       "      <td>NaN</td>\n",
       "    </tr>\n",
       "    <tr>\n",
       "      <th>2</th>\n",
       "      <td>103379.0</td>\n",
       "      <td>for_sale</td>\n",
       "      <td>67000.0</td>\n",
       "      <td>2.0</td>\n",
       "      <td>1.0</td>\n",
       "      <td>0.15</td>\n",
       "      <td>1404990.0</td>\n",
       "      <td>Juana Diaz</td>\n",
       "      <td>Puerto Rico</td>\n",
       "      <td>795.0</td>\n",
       "      <td>748.0</td>\n",
       "      <td>NaN</td>\n",
       "    </tr>\n",
       "    <tr>\n",
       "      <th>3</th>\n",
       "      <td>31239.0</td>\n",
       "      <td>for_sale</td>\n",
       "      <td>145000.0</td>\n",
       "      <td>4.0</td>\n",
       "      <td>2.0</td>\n",
       "      <td>0.10</td>\n",
       "      <td>1947675.0</td>\n",
       "      <td>Ponce</td>\n",
       "      <td>Puerto Rico</td>\n",
       "      <td>731.0</td>\n",
       "      <td>1800.0</td>\n",
       "      <td>NaN</td>\n",
       "    </tr>\n",
       "    <tr>\n",
       "      <th>4</th>\n",
       "      <td>34632.0</td>\n",
       "      <td>for_sale</td>\n",
       "      <td>65000.0</td>\n",
       "      <td>6.0</td>\n",
       "      <td>2.0</td>\n",
       "      <td>0.05</td>\n",
       "      <td>331151.0</td>\n",
       "      <td>Mayaguez</td>\n",
       "      <td>Puerto Rico</td>\n",
       "      <td>680.0</td>\n",
       "      <td>NaN</td>\n",
       "      <td>NaN</td>\n",
       "    </tr>\n",
       "  </tbody>\n",
       "</table>\n",
       "</div>"
      ],
      "text/plain": [
       "   brokered_by    status     price  bed  bath  acre_lot     street  \\\n",
       "0     103378.0  for_sale  105000.0  3.0   2.0      0.12  1962661.0   \n",
       "1      52707.0  for_sale   80000.0  4.0   2.0      0.08  1902874.0   \n",
       "2     103379.0  for_sale   67000.0  2.0   1.0      0.15  1404990.0   \n",
       "3      31239.0  for_sale  145000.0  4.0   2.0      0.10  1947675.0   \n",
       "4      34632.0  for_sale   65000.0  6.0   2.0      0.05   331151.0   \n",
       "\n",
       "         city        state  zip_code  house_size prev_sold_date  \n",
       "0    Adjuntas  Puerto Rico     601.0       920.0            NaN  \n",
       "1    Adjuntas  Puerto Rico     601.0      1527.0            NaN  \n",
       "2  Juana Diaz  Puerto Rico     795.0       748.0            NaN  \n",
       "3       Ponce  Puerto Rico     731.0      1800.0            NaN  \n",
       "4    Mayaguez  Puerto Rico     680.0         NaN            NaN  "
      ]
     },
     "execution_count": 2,
     "metadata": {},
     "output_type": "execute_result"
    }
   ],
   "source": [
    "df =  pd.read_csv('/media/programmerrez/Field_Testing/Courses/Client_Projects/Sir_Malik/Price-Prediction-Model/Datasets/realtor-data.zip.csv')\n",
    "df.head()"
   ]
  },
  {
   "cell_type": "code",
   "execution_count": 3,
   "id": "bb261ff8",
   "metadata": {},
   "outputs": [
    {
     "data": {
      "text/plain": [
       "Index(['status', 'price', 'bed', 'bath', 'acre_lot', 'city', 'state',\n",
       "       'house_size'],\n",
       "      dtype='object')"
      ]
     },
     "execution_count": 3,
     "metadata": {},
     "output_type": "execute_result"
    }
   ],
   "source": [
    "df.drop(['brokered_by','street','prev_sold_date','zip_code'],axis=1,inplace=True)\n",
    "df.columns\n"
   ]
  },
  {
   "cell_type": "code",
   "execution_count": 4,
   "id": "b71b69a4",
   "metadata": {},
   "outputs": [],
   "source": [
    "numeric_cols = df.select_dtypes(include='number').columns.to_list()\n",
    "numeric_data = df[numeric_cols]"
   ]
  },
  {
   "cell_type": "code",
   "execution_count": 5,
   "id": "541b5451",
   "metadata": {},
   "outputs": [],
   "source": [
    "def fill_mode(df):\n",
    "    df1 = df.copy()\n",
    "    numeric_cols = df1.select_dtypes(include='number').columns.to_list()\n",
    "    for col in numeric_cols:\n",
    "        mode_val = df1[col].mode()[0]\n",
    "        df1[col] = df1[col].fillna(mode_val)\n",
    "    return df1\n"
   ]
  },
  {
   "cell_type": "code",
   "execution_count": 6,
   "id": "662eb17f",
   "metadata": {},
   "outputs": [],
   "source": [
    "mode_pipeline = Pipeline(steps=[('mode_imputer', FunctionTransformer(fill_mode, validate=False))])"
   ]
  },
  {
   "cell_type": "code",
   "execution_count": 7,
   "id": "440e94a1",
   "metadata": {},
   "outputs": [
    {
     "data": {
      "application/vnd.microsoft.datawrangler.viewer.v0+json": {
       "columns": [
        {
         "name": "index",
         "rawType": "object",
         "type": "string"
        },
        {
         "name": "0",
         "rawType": "int64",
         "type": "integer"
        }
       ],
       "ref": "cb39b029-a6fd-4bb9-a099-b40efee694f9",
       "rows": [
        [
         "status",
         "0"
        ],
        [
         "price",
         "0"
        ],
        [
         "bed",
         "0"
        ],
        [
         "bath",
         "0"
        ],
        [
         "acre_lot",
         "0"
        ],
        [
         "city",
         "1407"
        ],
        [
         "state",
         "8"
        ],
        [
         "house_size",
         "0"
        ]
       ],
       "shape": {
        "columns": 1,
        "rows": 8
       }
      },
      "text/plain": [
       "status           0\n",
       "price            0\n",
       "bed              0\n",
       "bath             0\n",
       "acre_lot         0\n",
       "city          1407\n",
       "state            8\n",
       "house_size       0\n",
       "dtype: int64"
      ]
     },
     "execution_count": 7,
     "metadata": {},
     "output_type": "execute_result"
    }
   ],
   "source": [
    "result = mode_pipeline.fit_transform(df)\n",
    "result.isna().sum()"
   ]
  },
  {
   "cell_type": "code",
   "execution_count": 8,
   "id": "8a419ec2",
   "metadata": {},
   "outputs": [
    {
     "data": {
      "text/plain": [
       "<Axes: xlabel='status', ylabel='price'>"
      ]
     },
     "execution_count": 8,
     "metadata": {},
     "output_type": "execute_result"
    },
    {
     "data": {
      "image/png": "[encoded data removed]",
      "text/plain": [
       "<Figure size 640x480 with 1 Axes>"
      ]
     },
     "metadata": {},
     "output_type": "display_data"
    }
   ],
   "source": [
    "sn.scatterplot(result,x='status',y='price')"
   ]
  },
  {
   "cell_type": "code",
   "execution_count": 9,
   "id": "ab262bcc",
   "metadata": {},
   "outputs": [
    {
     "data": {
      "text/plain": [
       "<Axes: xlabel='status', ylabel='price'>"
      ]
     },
     "execution_count": 9,
     "metadata": {},
     "output_type": "execute_result"
    },
    {
     "data": {
      "image/png": "[encoded data removed]",
      "text/plain": [
       "<Figure size 640x480 with 1 Axes>"
      ]
     },
     "metadata": {},
     "output_type": "display_data"
    }
   ],
   "source": [
    "sn.histplot(result,x='status',y='price')"
   ]
  },
  {
   "cell_type": "code",
   "execution_count": 10,
   "id": "189e570b",
   "metadata": {},
   "outputs": [],
   "source": [
    "result.drop(['status'],axis=1,inplace=True)"
   ]
  },
  {
   "cell_type": "code",
   "execution_count": 11,
   "id": "b4feda39",
   "metadata": {},
   "outputs": [],
   "source": [
    "df1 = result.copy()"
   ]
  },
  {
   "cell_type": "code",
   "execution_count": 12,
   "id": "1c1b77ca",
   "metadata": {},
   "outputs": [
    {
     "data": {
      "text/plain": [
       "array(['Adjuntas', 'Juana Diaz', 'Ponce', ..., 'Tbd King Ave Pasco',\n",
       "       'Washtucna', 'Kahlotus'], shape=(20099,), dtype=object)"
      ]
     },
     "execution_count": 12,
     "metadata": {},
     "output_type": "execute_result"
    }
   ],
   "source": [
    "df1.city.unique()"
   ]
  },
  {
   "cell_type": "code",
   "execution_count": 13,
   "id": "bd0b25fc",
   "metadata": {},
   "outputs": [
    {
     "data": {
      "text/plain": [
       "array(['Puerto Rico', 'Virgin Islands', 'Massachusetts', 'Connecticut',\n",
       "       'New Hampshire', 'Vermont', 'New Jersey', 'New York',\n",
       "       'South Carolina', 'Tennessee', 'Rhode Island', 'Virginia',\n",
       "       'Wyoming', 'Maine', 'Georgia', 'Pennsylvania', 'West Virginia',\n",
       "       'Delaware', 'Louisiana', 'Ohio', 'California', 'Colorado',\n",
       "       'Maryland', 'Missouri', 'District of Columbia', 'Wisconsin',\n",
       "       'North Carolina', 'Kentucky', 'Michigan', 'Mississippi', 'Florida',\n",
       "       'Alabama', 'New Brunswick', nan, 'Texas', 'Arkansas', 'Idaho',\n",
       "       'Indiana', 'Illinois', 'New Mexico', 'Iowa', 'Minnesota',\n",
       "       'South Dakota', 'Nebraska', 'North Dakota', 'Montana', 'Oklahoma',\n",
       "       'Kansas', 'Oregon', 'Utah', 'Nevada', 'Washington', 'Arizona',\n",
       "       'Hawaii', 'Guam', 'Alaska'], dtype=object)"
      ]
     },
     "execution_count": 13,
     "metadata": {},
     "output_type": "execute_result"
    }
   ],
   "source": [
    "df1.state.unique()"
   ]
  },
  {
   "cell_type": "code",
   "execution_count": 14,
   "id": "c336db5a",
   "metadata": {},
   "outputs": [
    {
     "data": {
      "text/plain": [
       "(2226382, 7)"
      ]
     },
     "execution_count": 14,
     "metadata": {},
     "output_type": "execute_result"
    }
   ],
   "source": [
    "df1.shape"
   ]
  },
  {
   "cell_type": "code",
   "execution_count": 15,
   "id": "ec3de4bf",
   "metadata": {},
   "outputs": [
    {
     "data": {
      "text/plain": [
       "Index(['price', 'bed', 'bath', 'acre_lot', 'city', 'state', 'house_size'], dtype='object')"
      ]
     },
     "execution_count": 15,
     "metadata": {},
     "output_type": "execute_result"
    }
   ],
   "source": [
    "df1.columns"
   ]
  },
  {
   "cell_type": "code",
   "execution_count": 16,
   "id": "37e393a5",
   "metadata": {},
   "outputs": [],
   "source": [
    "df1[\"sqft_lot\"] = df[\"acre_lot\"] * 43560\n"
   ]
  },
  {
   "cell_type": "code",
   "execution_count": 17,
   "id": "b81c9d35",
   "metadata": {},
   "outputs": [
    {
     "data": {
      "application/vnd.microsoft.datawrangler.viewer.v0+json": {
       "columns": [
        {
         "name": "index",
         "rawType": "object",
         "type": "string"
        },
        {
         "name": "sqft_lot",
         "rawType": "float64",
         "type": "float"
        }
       ],
       "ref": "1b11d018-e075-4f36-9131-10f59e4ba0bb",
       "rows": [
        [
         "count",
         "1900793.0"
        ],
        [
         "mean",
         "663115.0755898197"
        ],
        [
         "std",
         "33228604.82210867"
        ],
        [
         "min",
         "0.0"
        ],
        [
         "25%",
         "6534.0"
        ],
        [
         "50%",
         "11325.6"
        ],
        [
         "75%",
         "42688.799999999996"
        ],
        [
         "max",
         "4356000000.0"
        ]
       ],
       "shape": {
        "columns": 1,
        "rows": 8
       }
      },
      "text/plain": [
       "count    1.900793e+06\n",
       "mean     6.631151e+05\n",
       "std      3.322860e+07\n",
       "min      0.000000e+00\n",
       "25%      6.534000e+03\n",
       "50%      1.132560e+04\n",
       "75%      4.268880e+04\n",
       "max      4.356000e+09\n",
       "Name: sqft_lot, dtype: float64"
      ]
     },
     "execution_count": 17,
     "metadata": {},
     "output_type": "execute_result"
    }
   ],
   "source": [
    "df1.sqft_lot.describe()"
   ]
  },
  {
   "cell_type": "code",
   "execution_count": null,
   "id": "9236e932",
   "metadata": {},
   "outputs": [
    {
     "data": {
      "application/vnd.microsoft.datawrangler.viewer.v0+json": {
       "columns": [
        {
         "name": "index",
         "rawType": "object",
         "type": "string"
        },
        {
         "name": "0",
         "rawType": "int64",
         "type": "integer"
        }
       ],
       "ref": "5035d0cf-bd74-4e9c-b6b5-c4ab48776daf",
       "rows": [
        [
         "price",
         "0"
        ],
        [
         "bed",
         "0"
        ],
        [
         "bath",
         "0"
        ],
        [
         "acre_lot",
         "0"
        ],
        [
         "city",
         "1407"
        ],
        [
         "state",
         "8"
        ],
        [
         "house_size",
         "0"
        ],
        [
         "sqft_lot",
         "325589"
        ]
       ],
       "shape": {
        "columns": 1,
        "rows": 8
       }
      },
      "text/plain": [
       "price              0\n",
       "bed                0\n",
       "bath               0\n",
       "acre_lot           0\n",
       "city            1407\n",
       "state              8\n",
       "house_size         0\n",
       "sqft_lot      325589\n",
       "dtype: int64"
      ]
     },
     "execution_count": 18,
     "metadata": {},
     "output_type": "execute_result"
    }
   ],
   "source": [
    "df1.isna().sum()"
   ]
  },
  {
   "cell_type": "code",
   "execution_count": 19,
   "id": "e07e3555",
   "metadata": {},
   "outputs": [],
   "source": [
    "df2 = mode_pipeline.fit_transform(df1)"
   ]
  },
  {
   "cell_type": "code",
   "execution_count": 20,
   "id": "5177f931",
   "metadata": {},
   "outputs": [
    {
     "data": {
      "text/plain": [
       "np.int64(0)"
      ]
     },
     "execution_count": 20,
     "metadata": {},
     "output_type": "execute_result"
    }
   ],
   "source": [
    "df2.sqft_lot.isna().sum()"
   ]
  },
  {
   "cell_type": "code",
   "execution_count": 21,
   "id": "95c8011b",
   "metadata": {},
   "outputs": [
    {
     "data": {
      "application/vnd.microsoft.datawrangler.viewer.v0+json": {
       "columns": [
        {
         "name": "index",
         "rawType": "object",
         "type": "string"
        },
        {
         "name": "sqft_lot",
         "rawType": "float64",
         "type": "float"
        }
       ],
       "ref": "a2ad5012-3873-4117-9a76-27615d7d004b",
       "rows": [
        [
         "count",
         "2226382.0"
        ],
        [
         "mean",
         "567223.2103647981"
        ],
        [
         "std",
         "30703792.79236671"
        ],
        [
         "min",
         "0.0"
        ],
        [
         "25%",
         "7405.200000000001"
        ],
        [
         "50%",
         "9583.2"
        ],
        [
         "75%",
         "29620.800000000003"
        ],
        [
         "max",
         "4356000000.0"
        ]
       ],
       "shape": {
        "columns": 1,
        "rows": 8
       }
      },
      "text/plain": [
       "count    2.226382e+06\n",
       "mean     5.672232e+05\n",
       "std      3.070379e+07\n",
       "min      0.000000e+00\n",
       "25%      7.405200e+03\n",
       "50%      9.583200e+03\n",
       "75%      2.962080e+04\n",
       "max      4.356000e+09\n",
       "Name: sqft_lot, dtype: float64"
      ]
     },
     "execution_count": 21,
     "metadata": {},
     "output_type": "execute_result"
    }
   ],
   "source": [
    "df2.sqft_lot.describe()"
   ]
  },
  {
   "cell_type": "code",
   "execution_count": 22,
   "id": "4fe42951",
   "metadata": {},
   "outputs": [
    {
     "data": {
      "application/vnd.microsoft.datawrangler.viewer.v0+json": {
       "columns": [
        {
         "name": "index",
         "rawType": "object",
         "type": "string"
        },
        {
         "name": "0",
         "rawType": "int64",
         "type": "integer"
        }
       ],
       "ref": "6abc88f5-92db-4e35-ad01-c2aad03e685e",
       "rows": [
        [
         "price",
         "0"
        ],
        [
         "bed",
         "0"
        ],
        [
         "bath",
         "0"
        ],
        [
         "acre_lot",
         "0"
        ],
        [
         "city",
         "0"
        ],
        [
         "state",
         "0"
        ],
        [
         "house_size",
         "0"
        ],
        [
         "sqft_lot",
         "0"
        ]
       ],
       "shape": {
        "columns": 1,
        "rows": 8
       }
      },
      "text/plain": [
       "price         0\n",
       "bed           0\n",
       "bath          0\n",
       "acre_lot      0\n",
       "city          0\n",
       "state         0\n",
       "house_size    0\n",
       "sqft_lot      0\n",
       "dtype: int64"
      ]
     },
     "execution_count": 22,
     "metadata": {},
     "output_type": "execute_result"
    }
   ],
   "source": [
    "df2.dropna(subset=['city','state'], inplace=True)\n",
    "df2.isna().sum()\n"
   ]
  },
  {
   "cell_type": "code",
   "execution_count": 23,
   "id": "ef715066",
   "metadata": {},
   "outputs": [
    {
     "data": {
      "text/plain": [
       "(2224967, 8)"
      ]
     },
     "execution_count": 23,
     "metadata": {},
     "output_type": "execute_result"
    }
   ],
   "source": [
    "df2.shape"
   ]
  },
  {
   "cell_type": "code",
   "execution_count": 24,
   "id": "dcd4a76f",
   "metadata": {},
   "outputs": [],
   "source": [
    "df2.to_csv('/media/programmerrez/Field_Testing/Courses/Client_Projects/Sir_Malik/Price-Prediction-Model/Cleaned_Data/df_2.csv')"
   ]
  },
  {
   "cell_type": "code",
   "execution_count": null,
   "id": "7d848401",
   "metadata": {},
   "outputs": [],
   "source": []
  }
 ],
 "metadata": {
  "kernelspec": {
   "display_name": ".venv",
   "language": "python",
   "name": "python3"
  },
  "language_info": {
   "codemirror_mode": {
    "name": "ipython",
    "version": 3
   },
   "file_extension": ".py",
   "mimetype": "text/x-python",
   "name": "python",
   "nbconvert_exporter": "python",
   "pygments_lexer": "ipython3",
   "version": "3.12.1"
  }
 },
 "nbformat": 4,
 "nbformat_minor": 5
}
